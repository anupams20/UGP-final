{
 "cells": [
  {
   "cell_type": "markdown",
   "metadata": {},
   "source": [
    "# 1. Import and Install Dependencies"
   ]
  },
  {
   "cell_type": "code",
   "execution_count": 1,
   "metadata": {},
   "outputs": [],
   "source": [
    "import cv2\n",
    "import numpy as np\n",
    "import os\n",
    "from matplotlib import pyplot as plt\n",
    "import time\n",
    "import mediapipe as mp"
   ]
  },
  {
   "cell_type": "markdown",
   "metadata": {},
   "source": [
    "# 2. Keypoints using MP Holistic"
   ]
  },
  {
   "cell_type": "code",
   "execution_count": 2,
   "metadata": {},
   "outputs": [],
   "source": [
    "mp_holistic = mp.solutions.holistic # Holistic model\n",
    "mp_drawing = mp.solutions.drawing_utils # Drawing utilities"
   ]
  },
  {
   "cell_type": "code",
   "execution_count": 3,
   "metadata": {},
   "outputs": [],
   "source": [
    "def mediapipe_detection(image, model):\n",
    "    image = cv2.cvtColor(image, cv2.COLOR_BGR2RGB) # COLOR CONVERSION BGR 2 RGB\n",
    "    image.flags.writeable = False                  # Image is no longer writeable\n",
    "    results = model.process(image)                 # Make prediction\n",
    "    image.flags.writeable = True                   # Image is now writeable \n",
    "    image = cv2.cvtColor(image, cv2.COLOR_RGB2BGR) # COLOR COVERSION RGB 2 BGR\n",
    "    return image, results"
   ]
  },
  {
   "cell_type": "code",
   "execution_count": 4,
   "metadata": {},
   "outputs": [],
   "source": [
    "def draw_landmarks(image, results):\n",
    "    mp_drawing.draw_landmarks(image, results.face_landmarks, mp_holistic.FACE_CONNECTIONS) # Draw face connections\n",
    "    mp_drawing.draw_landmarks(image, results.pose_landmarks, mp_holistic.POSE_CONNECTIONS) # Draw pose connections\n",
    "    mp_drawing.draw_landmarks(image, results.left_hand_landmarks, mp_holistic.HAND_CONNECTIONS) # Draw left hand connections\n",
    "    mp_drawing.draw_landmarks(image, results.right_hand_landmarks, mp_holistic.HAND_CONNECTIONS) # Draw right hand connections"
   ]
  },
  {
   "cell_type": "code",
   "execution_count": 5,
   "metadata": {},
   "outputs": [],
   "source": [
    "def draw_styled_landmarks(image, results):\n",
    "    # Draw face connections\n",
    "    mp_drawing.draw_landmarks(image, results.face_landmarks, mp_holistic.FACEMESH_TESSELATION, \n",
    "                             mp_drawing.DrawingSpec(color=(80,110,10), thickness=1, circle_radius=1), \n",
    "                             mp_drawing.DrawingSpec(color=(80,256,121), thickness=1, circle_radius=1)\n",
    "                             ) \n",
    "    # Draw pose connections\n",
    "    mp_drawing.draw_landmarks(image, results.pose_landmarks, mp_holistic.POSE_CONNECTIONS,\n",
    "                             mp_drawing.DrawingSpec(color=(80,22,10), thickness=2, circle_radius=4), \n",
    "                             mp_drawing.DrawingSpec(color=(80,44,121), thickness=2, circle_radius=2)\n",
    "                             ) \n",
    "    # Draw left hand connections\n",
    "    mp_drawing.draw_landmarks(image, results.left_hand_landmarks, mp_holistic.HAND_CONNECTIONS, \n",
    "                             mp_drawing.DrawingSpec(color=(121,22,76), thickness=2, circle_radius=4), \n",
    "                             mp_drawing.DrawingSpec(color=(121,44,250), thickness=2, circle_radius=2)\n",
    "                             ) \n",
    "    # Draw right hand connections  \n",
    "    mp_drawing.draw_landmarks(image, results.right_hand_landmarks, mp_holistic.HAND_CONNECTIONS, \n",
    "                             mp_drawing.DrawingSpec(color=(245,117,66), thickness=2, circle_radius=4), \n",
    "                             mp_drawing.DrawingSpec(color=(245,66,230), thickness=2, circle_radius=2)\n",
    "                             ) "
   ]
  },
  {
   "cell_type": "code",
   "execution_count": 6,
   "metadata": {},
   "outputs": [
    {
     "name": "stdout",
     "output_type": "stream",
     "text": [
      "<class 'mediapipe.python.solution_base.SolutionOutputs'>\n",
      "<class 'mediapipe.python.solution_base.SolutionOutputs'>\n",
      "<class 'mediapipe.python.solution_base.SolutionOutputs'>\n",
      "<class 'mediapipe.python.solution_base.SolutionOutputs'>\n",
      "<class 'mediapipe.python.solution_base.SolutionOutputs'>\n",
      "<class 'mediapipe.python.solution_base.SolutionOutputs'>\n",
      "<class 'mediapipe.python.solution_base.SolutionOutputs'>\n",
      "<class 'mediapipe.python.solution_base.SolutionOutputs'>\n",
      "<class 'mediapipe.python.solution_base.SolutionOutputs'>\n",
      "<class 'mediapipe.python.solution_base.SolutionOutputs'>\n",
      "<class 'mediapipe.python.solution_base.SolutionOutputs'>\n",
      "<class 'mediapipe.python.solution_base.SolutionOutputs'>\n",
      "<class 'mediapipe.python.solution_base.SolutionOutputs'>\n",
      "<class 'mediapipe.python.solution_base.SolutionOutputs'>\n",
      "<class 'mediapipe.python.solution_base.SolutionOutputs'>\n",
      "<class 'mediapipe.python.solution_base.SolutionOutputs'>\n",
      "<class 'mediapipe.python.solution_base.SolutionOutputs'>\n"
     ]
    }
   ],
   "source": [
    "cap = cv2.VideoCapture(0)\n",
    "# Set mediapipe model \n",
    "with mp_holistic.Holistic(min_detection_confidence=0.5, min_tracking_confidence=0.5) as holistic:\n",
    "    while cap.isOpened():\n",
    "\n",
    "        # Read feed\n",
    "        ret, frame = cap.read()\n",
    "\n",
    "        # Make detections\n",
    "        image, results = mediapipe_detection(frame, holistic)\n",
    "        print(results)\n",
    "        \n",
    "        # Draw landmarks\n",
    "        draw_styled_landmarks(image, results)\n",
    "\n",
    "        # Show to screen\n",
    "        cv2.imshow('OpenCV Feed', image)\n",
    "\n",
    "        # Break gracefully\n",
    "        if cv2.waitKey(10) & 0xFF == ord('q'):\n",
    "            break\n",
    "    cap.release()\n",
    "    cv2.destroyAllWindows()"
   ]
  },
  {
   "cell_type": "markdown",
   "metadata": {},
   "source": [
    "# 3. Extract Keypoint Values"
   ]
  },
  {
   "cell_type": "code",
   "execution_count": 7,
   "metadata": {},
   "outputs": [],
   "source": [
    "pose = []\n",
    "for res in results.pose_landmarks.landmark:\n",
    "    test = np.array([res.x, res.y, res.z, res.visibility])\n",
    "    pose.append(test)"
   ]
  },
  {
   "cell_type": "code",
   "execution_count": 8,
   "metadata": {},
   "outputs": [],
   "source": [
    "pose = np.array([[res.x, res.y, res.z, res.visibility] for res in results.pose_landmarks.landmark]).flatten() if results.pose_landmarks else np.zeros(132)\n",
    "face = np.array([[res.x, res.y, res.z] for res in results.face_landmarks.landmark]).flatten() if results.face_landmarks else np.zeros(1404)\n",
    "lh = np.array([[res.x, res.y, res.z] for res in results.left_hand_landmarks.landmark]).flatten() if results.left_hand_landmarks else np.zeros(21*3)\n",
    "rh = np.array([[res.x, res.y, res.z] for res in results.right_hand_landmarks.landmark]).flatten() if results.right_hand_landmarks else np.zeros(21*3)"
   ]
  },
  {
   "cell_type": "code",
   "execution_count": 9,
   "metadata": {},
   "outputs": [
    {
     "ename": "IndentationError",
     "evalue": "unexpected indent (1373052555.py, line 2)",
     "output_type": "error",
     "traceback": [
      "\u001b[1;36m  Input \u001b[1;32mIn [9]\u001b[1;36m\u001b[0m\n\u001b[1;33m    if results.face_landmarks\u001b[0m\n\u001b[1;37m    ^\u001b[0m\n\u001b[1;31mIndentationError\u001b[0m\u001b[1;31m:\u001b[0m unexpected indent\n"
     ]
    }
   ],
   "source": [
    "face = np.array([[res.x, res.y, res.z] for res in results.face_landmarks.landmark]).flatten() \n",
    "    if results.face_landmarks \n",
    "    else np.zeros(1404)\n"
   ]
  },
  {
   "cell_type": "code",
   "execution_count": 10,
   "metadata": {},
   "outputs": [],
   "source": [
    "def extract_keypoints(results):\n",
    "    pose = np.array([[res.x, res.y, res.z, res.visibility] for res in results.pose_landmarks.landmark]).flatten() if results.pose_landmarks else np.zeros(33*4)\n",
    "    face = np.array([[res.x, res.y, res.z] for res in results.face_landmarks.landmark]).flatten() if results.face_landmarks else np.zeros(468*3)\n",
    "    lh = np.array([[res.x, res.y, res.z] for res in results.left_hand_landmarks.landmark]).flatten() if results.left_hand_landmarks else np.zeros(21*3)\n",
    "    rh = np.array([[res.x, res.y, res.z] for res in results.right_hand_landmarks.landmark]).flatten() if results.right_hand_landmarks else np.zeros(21*3)\n",
    "    return np.concatenate([pose, face, lh, rh])"
   ]
  },
  {
   "cell_type": "code",
   "execution_count": 11,
   "metadata": {},
   "outputs": [],
   "source": [
    "result_test = extract_keypoints(results)"
   ]
  },
  {
   "cell_type": "code",
   "execution_count": 12,
   "metadata": {},
   "outputs": [
    {
     "data": {
      "text/plain": [
       "array([ 0.67215574,  0.51666695, -0.95855701, ...,  0.        ,\n",
       "        0.        ,  0.        ])"
      ]
     },
     "execution_count": 12,
     "metadata": {},
     "output_type": "execute_result"
    }
   ],
   "source": [
    "result_test"
   ]
  },
  {
   "cell_type": "code",
   "execution_count": 13,
   "metadata": {},
   "outputs": [],
   "source": [
    "np.save('0', result_test)"
   ]
  },
  {
   "cell_type": "code",
   "execution_count": 14,
   "metadata": {},
   "outputs": [
    {
     "data": {
      "text/plain": [
       "array([ 0.67215574,  0.51666695, -0.95855701, ...,  0.        ,\n",
       "        0.        ,  0.        ])"
      ]
     },
     "execution_count": 14,
     "metadata": {},
     "output_type": "execute_result"
    }
   ],
   "source": [
    "np.load('0.npy')"
   ]
  },
  {
   "cell_type": "markdown",
   "metadata": {},
   "source": [
    "# 4. Setup Folders for Collection"
   ]
  },
  {
   "cell_type": "code",
   "execution_count": 15,
   "metadata": {},
   "outputs": [],
   "source": [
    "# Path for exported data, numpy arrays\n",
    "DATA_PATH = os.path.join('MP_Data1') \n",
    "\n",
    "# Actions that we try to detect\n",
    "actions = np.array(['high', 'low'])\n",
    "\n",
    "# Thirty videos worth of data\n",
    "no_sequences = 65\n",
    "\n",
    "# Videos are going to be 30 frames in length\n",
    "sequence_length = 30\n",
    "\n",
    "# Folder start\n",
    "start_folder = 0"
   ]
  },
  {
   "cell_type": "code",
   "execution_count": null,
   "metadata": {},
   "outputs": [],
   "source": [
    "# hello\n",
    "## 0\n",
    "## 1\n",
    "## 2\n",
    "## ...\n",
    "## 29\n",
    "# thanks\n",
    "\n",
    "# I love you"
   ]
  },
  {
   "cell_type": "code",
   "execution_count": null,
   "metadata": {},
   "outputs": [],
   "source": [
    "for action in actions: \n",
    "    for sequence in range(no_sequences):\n",
    "        try: \n",
    "            os.makedirs(os.path.join(DATA_PATH, action, str(sequence)))\n",
    "        except:\n",
    "            pass"
   ]
  },
  {
   "cell_type": "markdown",
   "metadata": {},
   "source": [
    "# 5. Collect Keypoint Values for Training and Testing"
   ]
  },
  {
   "cell_type": "code",
   "execution_count": null,
   "metadata": {
    "scrolled": true
   },
   "outputs": [],
   "source": [
    "cap = cv2.VideoCapture(r\"C:\\\\Users\\\\91914\\\\Downloads\\\\WIN_20230421_12_30_22_Pro (online-video-cutter.com).mp4\")\n",
    "# Set mediapipe model \n",
    "with mp_holistic.Holistic(min_detection_confidence=0.5, min_tracking_confidence=0.5) as holistic:\n",
    "    \n",
    "    # NEW LOOP\n",
    "    # Loop through actions\n",
    "    for action in actions:\n",
    "        # Loop through sequences aka videos\n",
    "        for sequence in range(start_folder, start_folder+no_sequences):\n",
    "            # Loop through video length aka sequence length\n",
    "            for frame_num in range(sequence_length):\n",
    "\n",
    "                # Read feed\n",
    "                ret, frame = cap.read()\n",
    "\n",
    "                # Make detections\n",
    "                image, results = mediapipe_detection(frame, holistic)\n",
    "#                 print(results)\n",
    "\n",
    "                # Draw landmarks\n",
    "                draw_styled_landmarks(image, results)\n",
    "                \n",
    "                # NEW Apply wait logic\n",
    "                if frame_num == 0: \n",
    "                    cv2.putText(image, 'STARTING COLLECTION', (120,200), \n",
    "                               cv2.FONT_HERSHEY_SIMPLEX, 1, (0,255, 0), 4, cv2.LINE_AA)\n",
    "                    cv2.putText(image, 'Collecting frames for {} Video Number {}'.format(action, sequence), (15,12), \n",
    "                               cv2.FONT_HERSHEY_SIMPLEX, 0.5, (0, 0, 255), 1, cv2.LINE_AA)\n",
    "                    # Show to screen\n",
    "                    cv2.imshow('OpenCV Feed', image)\n",
    "                    cv2.waitKey(2000)\n",
    "                else: \n",
    "                    cv2.putText(image, 'Collecting frames for {} Video Number {}'.format(action, sequence), (15,12), \n",
    "                               cv2.FONT_HERSHEY_SIMPLEX, 0.5, (0, 0, 255), 1, cv2.LINE_AA)\n",
    "                    # Show to screen\n",
    "                    cv2.imshow('OpenCV Feed', image)\n",
    "                \n",
    "                # NEW Export keypoints\n",
    "                keypoints = extract_keypoints(results)\n",
    "                npy_path = os.path.join(DATA_PATH, action, str(sequence), str(frame_num))\n",
    "                np.save(npy_path, keypoints)\n",
    "\n",
    "                # Break gracefully\n",
    "                if cv2.waitKey(10) & 0xFF == ord('q'):\n",
    "                    break\n",
    "                    \n",
    "    cap.release()\n",
    "    cv2.destroyAllWindows()"
   ]
  },
  {
   "cell_type": "code",
   "execution_count": null,
   "metadata": {},
   "outputs": [],
   "source": [
    "cap.release()\n",
    "cv2.destroyAllWindows()"
   ]
  },
  {
   "cell_type": "markdown",
   "metadata": {},
   "source": [
    "# 6. Preprocess Data and Create Labels and Features"
   ]
  },
  {
   "cell_type": "code",
   "execution_count": 16,
   "metadata": {},
   "outputs": [],
   "source": [
    "from sklearn.model_selection import train_test_split\n",
    "from tensorflow.keras.utils import to_categorical"
   ]
  },
  {
   "cell_type": "code",
   "execution_count": 17,
   "metadata": {},
   "outputs": [],
   "source": [
    "label_map = {label:num for num, label in enumerate(actions)}"
   ]
  },
  {
   "cell_type": "code",
   "execution_count": 18,
   "metadata": {},
   "outputs": [
    {
     "data": {
      "text/plain": [
       "{'high': 0, 'low': 1}"
      ]
     },
     "execution_count": 18,
     "metadata": {},
     "output_type": "execute_result"
    }
   ],
   "source": [
    "label_map"
   ]
  },
  {
   "cell_type": "code",
   "execution_count": 19,
   "metadata": {},
   "outputs": [],
   "source": [
    "sequences, labels = [], []\n",
    "for action in actions:\n",
    "    for sequence in range(no_sequences):\n",
    "        window = []\n",
    "        for frame_num in range(sequence_length):\n",
    "            res = np.load(os.path.join(DATA_PATH, action, str(sequence), \"{}.npy\".format(frame_num)))\n",
    "            window.append(res)\n",
    "        sequences.append(window)\n",
    "        labels.append(label_map[action])"
   ]
  },
  {
   "cell_type": "code",
   "execution_count": 20,
   "metadata": {},
   "outputs": [
    {
     "data": {
      "text/plain": [
       "(130, 30, 1662)"
      ]
     },
     "execution_count": 20,
     "metadata": {},
     "output_type": "execute_result"
    }
   ],
   "source": [
    "np.array(sequences).shape"
   ]
  },
  {
   "cell_type": "code",
   "execution_count": 21,
   "metadata": {},
   "outputs": [
    {
     "data": {
      "text/plain": [
       "(130,)"
      ]
     },
     "execution_count": 21,
     "metadata": {},
     "output_type": "execute_result"
    }
   ],
   "source": [
    "np.array(labels).shape"
   ]
  },
  {
   "cell_type": "code",
   "execution_count": 22,
   "metadata": {},
   "outputs": [],
   "source": [
    "X = np.array(sequences)"
   ]
  },
  {
   "cell_type": "code",
   "execution_count": 23,
   "metadata": {},
   "outputs": [
    {
     "data": {
      "text/plain": [
       "(130, 30, 1662)"
      ]
     },
     "execution_count": 23,
     "metadata": {},
     "output_type": "execute_result"
    }
   ],
   "source": [
    "X.shape"
   ]
  },
  {
   "cell_type": "code",
   "execution_count": 24,
   "metadata": {},
   "outputs": [],
   "source": [
    "y = to_categorical(labels).astype(int)"
   ]
  },
  {
   "cell_type": "code",
   "execution_count": 25,
   "metadata": {},
   "outputs": [
    {
     "data": {
      "text/plain": [
       "array([[1, 0],\n",
       "       [1, 0],\n",
       "       [1, 0],\n",
       "       [1, 0],\n",
       "       [1, 0],\n",
       "       [1, 0],\n",
       "       [1, 0],\n",
       "       [1, 0],\n",
       "       [1, 0],\n",
       "       [1, 0],\n",
       "       [1, 0],\n",
       "       [1, 0],\n",
       "       [1, 0],\n",
       "       [1, 0],\n",
       "       [1, 0],\n",
       "       [1, 0],\n",
       "       [1, 0],\n",
       "       [1, 0],\n",
       "       [1, 0],\n",
       "       [1, 0],\n",
       "       [1, 0],\n",
       "       [1, 0],\n",
       "       [1, 0],\n",
       "       [1, 0],\n",
       "       [1, 0],\n",
       "       [1, 0],\n",
       "       [1, 0],\n",
       "       [1, 0],\n",
       "       [1, 0],\n",
       "       [1, 0],\n",
       "       [1, 0],\n",
       "       [1, 0],\n",
       "       [1, 0],\n",
       "       [1, 0],\n",
       "       [1, 0],\n",
       "       [1, 0],\n",
       "       [1, 0],\n",
       "       [1, 0],\n",
       "       [1, 0],\n",
       "       [1, 0],\n",
       "       [1, 0],\n",
       "       [1, 0],\n",
       "       [1, 0],\n",
       "       [1, 0],\n",
       "       [1, 0],\n",
       "       [1, 0],\n",
       "       [1, 0],\n",
       "       [1, 0],\n",
       "       [1, 0],\n",
       "       [1, 0],\n",
       "       [1, 0],\n",
       "       [1, 0],\n",
       "       [1, 0],\n",
       "       [1, 0],\n",
       "       [1, 0],\n",
       "       [1, 0],\n",
       "       [1, 0],\n",
       "       [1, 0],\n",
       "       [1, 0],\n",
       "       [1, 0],\n",
       "       [1, 0],\n",
       "       [1, 0],\n",
       "       [1, 0],\n",
       "       [1, 0],\n",
       "       [1, 0],\n",
       "       [0, 1],\n",
       "       [0, 1],\n",
       "       [0, 1],\n",
       "       [0, 1],\n",
       "       [0, 1],\n",
       "       [0, 1],\n",
       "       [0, 1],\n",
       "       [0, 1],\n",
       "       [0, 1],\n",
       "       [0, 1],\n",
       "       [0, 1],\n",
       "       [0, 1],\n",
       "       [0, 1],\n",
       "       [0, 1],\n",
       "       [0, 1],\n",
       "       [0, 1],\n",
       "       [0, 1],\n",
       "       [0, 1],\n",
       "       [0, 1],\n",
       "       [0, 1],\n",
       "       [0, 1],\n",
       "       [0, 1],\n",
       "       [0, 1],\n",
       "       [0, 1],\n",
       "       [0, 1],\n",
       "       [0, 1],\n",
       "       [0, 1],\n",
       "       [0, 1],\n",
       "       [0, 1],\n",
       "       [0, 1],\n",
       "       [0, 1],\n",
       "       [0, 1],\n",
       "       [0, 1],\n",
       "       [0, 1],\n",
       "       [0, 1],\n",
       "       [0, 1],\n",
       "       [0, 1],\n",
       "       [0, 1],\n",
       "       [0, 1],\n",
       "       [0, 1],\n",
       "       [0, 1],\n",
       "       [0, 1],\n",
       "       [0, 1],\n",
       "       [0, 1],\n",
       "       [0, 1],\n",
       "       [0, 1],\n",
       "       [0, 1],\n",
       "       [0, 1],\n",
       "       [0, 1],\n",
       "       [0, 1],\n",
       "       [0, 1],\n",
       "       [0, 1],\n",
       "       [0, 1],\n",
       "       [0, 1],\n",
       "       [0, 1],\n",
       "       [0, 1],\n",
       "       [0, 1],\n",
       "       [0, 1],\n",
       "       [0, 1],\n",
       "       [0, 1],\n",
       "       [0, 1],\n",
       "       [0, 1],\n",
       "       [0, 1],\n",
       "       [0, 1],\n",
       "       [0, 1]])"
      ]
     },
     "execution_count": 25,
     "metadata": {},
     "output_type": "execute_result"
    }
   ],
   "source": [
    "y"
   ]
  },
  {
   "cell_type": "code",
   "execution_count": 26,
   "metadata": {},
   "outputs": [],
   "source": [
    "X_train, X_test, y_train, y_test = train_test_split(X, y, test_size=0.05)"
   ]
  },
  {
   "cell_type": "code",
   "execution_count": 27,
   "metadata": {},
   "outputs": [
    {
     "data": {
      "text/plain": [
       "(7, 2)"
      ]
     },
     "execution_count": 27,
     "metadata": {},
     "output_type": "execute_result"
    }
   ],
   "source": [
    "y_test.shape"
   ]
  },
  {
   "cell_type": "markdown",
   "metadata": {},
   "source": [
    "# 7. Build and Train LSTM Neural Network"
   ]
  },
  {
   "cell_type": "code",
   "execution_count": 29,
   "metadata": {},
   "outputs": [],
   "source": [
    "from tensorflow.keras.models import Sequential\n",
    "from tensorflow.keras.layers import LSTM, Dense\n",
    "from tensorflow.keras.callbacks import TensorBoard"
   ]
  },
  {
   "cell_type": "code",
   "execution_count": 30,
   "metadata": {},
   "outputs": [],
   "source": [
    "log_dir = os.path.join('Logs')\n",
    "tb_callback = TensorBoard(log_dir=log_dir)"
   ]
  },
  {
   "cell_type": "code",
   "execution_count": 31,
   "metadata": {},
   "outputs": [],
   "source": [
    "model = Sequential()\n",
    "model.add(LSTM(64, return_sequences=True, activation='relu', input_shape=(30,1662)))\n",
    "model.add(LSTM(128, return_sequences=True, activation='relu'))\n",
    "model.add(LSTM(64, return_sequences=False, activation='relu'))\n",
    "model.add(Dense(64, activation='relu'))\n",
    "model.add(Dense(32, activation='relu'))\n",
    "model.add(Dense(actions.shape[0], activation='softmax'))"
   ]
  },
  {
   "cell_type": "code",
   "execution_count": 32,
   "metadata": {},
   "outputs": [],
   "source": [
    "res = [.7, 0.2, 0.1]"
   ]
  },
  {
   "cell_type": "code",
   "execution_count": 33,
   "metadata": {},
   "outputs": [
    {
     "data": {
      "text/plain": [
       "'high'"
      ]
     },
     "execution_count": 33,
     "metadata": {},
     "output_type": "execute_result"
    }
   ],
   "source": [
    "actions[np.argmax(res)]"
   ]
  },
  {
   "cell_type": "code",
   "execution_count": 34,
   "metadata": {},
   "outputs": [],
   "source": [
    "model.compile(optimizer='Adam', loss='categorical_crossentropy', metrics=['categorical_accuracy'])"
   ]
  },
  {
   "cell_type": "code",
   "execution_count": 35,
   "metadata": {
    "scrolled": true
   },
   "outputs": [
    {
     "name": "stdout",
     "output_type": "stream",
     "text": [
      "Epoch 1/100\n",
      "4/4 [==============================] - 10s 164ms/step - loss: 1.7450 - categorical_accuracy: 0.5122\n",
      "Epoch 2/100\n",
      "4/4 [==============================] - 1s 155ms/step - loss: 1.8229 - categorical_accuracy: 0.3902\n",
      "Epoch 3/100\n",
      "4/4 [==============================] - 1s 160ms/step - loss: 3.3905 - categorical_accuracy: 0.5610\n",
      "Epoch 4/100\n",
      "4/4 [==============================] - 1s 161ms/step - loss: 1.2800 - categorical_accuracy: 0.5366\n",
      "Epoch 5/100\n",
      "4/4 [==============================] - 1s 156ms/step - loss: 1.2080 - categorical_accuracy: 0.5528\n",
      "Epoch 6/100\n",
      "4/4 [==============================] - 1s 149ms/step - loss: 0.8554 - categorical_accuracy: 0.4634\n",
      "Epoch 7/100\n",
      "4/4 [==============================] - 1s 154ms/step - loss: 0.8203 - categorical_accuracy: 0.4634\n",
      "Epoch 8/100\n",
      "4/4 [==============================] - 1s 153ms/step - loss: 0.8318 - categorical_accuracy: 0.4959\n",
      "Epoch 9/100\n",
      "4/4 [==============================] - 1s 131ms/step - loss: 0.8929 - categorical_accuracy: 0.4553\n",
      "Epoch 10/100\n",
      "4/4 [==============================] - 1s 129ms/step - loss: 0.7465 - categorical_accuracy: 0.5041\n",
      "Epoch 11/100\n",
      "4/4 [==============================] - 1s 160ms/step - loss: 0.6980 - categorical_accuracy: 0.5041\n",
      "Epoch 12/100\n",
      "4/4 [==============================] - 1s 162ms/step - loss: 0.7083 - categorical_accuracy: 0.4472\n",
      "Epoch 13/100\n",
      "4/4 [==============================] - 1s 166ms/step - loss: 0.6968 - categorical_accuracy: 0.4472\n",
      "Epoch 14/100\n",
      "4/4 [==============================] - 1s 157ms/step - loss: 0.6831 - categorical_accuracy: 0.5610\n",
      "Epoch 15/100\n",
      "4/4 [==============================] - 1s 164ms/step - loss: 0.6839 - categorical_accuracy: 0.5203\n",
      "Epoch 16/100\n",
      "4/4 [==============================] - 1s 158ms/step - loss: 0.6726 - categorical_accuracy: 0.5772\n",
      "Epoch 17/100\n",
      "4/4 [==============================] - 1s 168ms/step - loss: 0.6595 - categorical_accuracy: 0.5772\n",
      "Epoch 18/100\n",
      "4/4 [==============================] - 1s 158ms/step - loss: 0.6626 - categorical_accuracy: 0.5610\n",
      "Epoch 19/100\n",
      "4/4 [==============================] - 1s 161ms/step - loss: 0.6507 - categorical_accuracy: 0.5854\n",
      "Epoch 20/100\n",
      "4/4 [==============================] - 1s 153ms/step - loss: 0.6433 - categorical_accuracy: 0.6098\n",
      "Epoch 21/100\n",
      "4/4 [==============================] - 1s 157ms/step - loss: 0.6328 - categorical_accuracy: 0.5935\n",
      "Epoch 22/100\n",
      "4/4 [==============================] - 1s 157ms/step - loss: 0.6343 - categorical_accuracy: 0.6260\n",
      "Epoch 23/100\n",
      "4/4 [==============================] - 1s 154ms/step - loss: 0.7308 - categorical_accuracy: 0.5041\n",
      "Epoch 24/100\n",
      "4/4 [==============================] - 1s 163ms/step - loss: 0.6558 - categorical_accuracy: 0.5854\n",
      "Epoch 25/100\n",
      "4/4 [==============================] - 1s 156ms/step - loss: 0.7065 - categorical_accuracy: 0.5041\n",
      "Epoch 26/100\n",
      "4/4 [==============================] - 1s 148ms/step - loss: 0.6178 - categorical_accuracy: 0.6748\n",
      "Epoch 27/100\n",
      "4/4 [==============================] - 1s 161ms/step - loss: 0.6425 - categorical_accuracy: 0.6341\n",
      "Epoch 28/100\n",
      "4/4 [==============================] - 1s 161ms/step - loss: 0.6349 - categorical_accuracy: 0.5854\n",
      "Epoch 29/100\n",
      "4/4 [==============================] - 1s 159ms/step - loss: 0.6229 - categorical_accuracy: 0.6423\n",
      "Epoch 30/100\n",
      "4/4 [==============================] - 1s 166ms/step - loss: 0.5978 - categorical_accuracy: 0.6748\n",
      "Epoch 31/100\n",
      "4/4 [==============================] - 1s 155ms/step - loss: 0.5459 - categorical_accuracy: 0.7236\n",
      "Epoch 32/100\n",
      "4/4 [==============================] - 1s 153ms/step - loss: 0.4609 - categorical_accuracy: 0.8537\n",
      "Epoch 33/100\n",
      "4/4 [==============================] - 1s 157ms/step - loss: 0.5152 - categorical_accuracy: 0.7805\n",
      "Epoch 34/100\n",
      "4/4 [==============================] - 1s 162ms/step - loss: 0.6161 - categorical_accuracy: 0.6911\n",
      "Epoch 35/100\n",
      "4/4 [==============================] - 1s 168ms/step - loss: 0.7901 - categorical_accuracy: 0.5447\n",
      "Epoch 36/100\n",
      "4/4 [==============================] - 1s 151ms/step - loss: 0.6076 - categorical_accuracy: 0.6098\n",
      "Epoch 37/100\n",
      "4/4 [==============================] - 1s 155ms/step - loss: 0.5873 - categorical_accuracy: 0.6260\n",
      "Epoch 38/100\n",
      "4/4 [==============================] - 1s 168ms/step - loss: 0.6351 - categorical_accuracy: 0.5610\n",
      "Epoch 39/100\n",
      "4/4 [==============================] - 1s 159ms/step - loss: 0.5710 - categorical_accuracy: 0.6911\n",
      "Epoch 40/100\n",
      "4/4 [==============================] - 1s 152ms/step - loss: 0.4323 - categorical_accuracy: 0.8455\n",
      "Epoch 41/100\n",
      "4/4 [==============================] - 1s 159ms/step - loss: 0.4407 - categorical_accuracy: 0.7967\n",
      "Epoch 42/100\n",
      "4/4 [==============================] - 1s 160ms/step - loss: 0.8566 - categorical_accuracy: 0.5285\n",
      "Epoch 43/100\n",
      "4/4 [==============================] - 1s 154ms/step - loss: 0.6350 - categorical_accuracy: 0.5528\n",
      "Epoch 44/100\n",
      "4/4 [==============================] - 1s 156ms/step - loss: 0.6635 - categorical_accuracy: 0.4959\n",
      "Epoch 45/100\n",
      "4/4 [==============================] - 1s 157ms/step - loss: 0.5497 - categorical_accuracy: 0.7967\n",
      "Epoch 46/100\n",
      "4/4 [==============================] - 1s 158ms/step - loss: 0.5016 - categorical_accuracy: 0.8293\n",
      "Epoch 47/100\n",
      "4/4 [==============================] - 1s 159ms/step - loss: 0.3892 - categorical_accuracy: 0.9106\n",
      "Epoch 48/100\n",
      "4/4 [==============================] - 1s 155ms/step - loss: 0.3217 - categorical_accuracy: 0.8862\n",
      "Epoch 49/100\n",
      "4/4 [==============================] - 1s 156ms/step - loss: 0.2493 - categorical_accuracy: 0.9106\n",
      "Epoch 50/100\n",
      "4/4 [==============================] - 1s 158ms/step - loss: 0.1965 - categorical_accuracy: 0.9187\n",
      "Epoch 51/100\n",
      "4/4 [==============================] - 1s 153ms/step - loss: 0.2274 - categorical_accuracy: 0.9024\n",
      "Epoch 52/100\n",
      "4/4 [==============================] - 1s 161ms/step - loss: 0.2357 - categorical_accuracy: 0.8862\n",
      "Epoch 53/100\n",
      "4/4 [==============================] - 1s 159ms/step - loss: 0.2026 - categorical_accuracy: 0.8862\n",
      "Epoch 54/100\n",
      "4/4 [==============================] - 1s 154ms/step - loss: 0.1811 - categorical_accuracy: 0.9187\n",
      "Epoch 55/100\n",
      "4/4 [==============================] - 1s 153ms/step - loss: 0.3763 - categorical_accuracy: 0.8374\n",
      "Epoch 56/100\n",
      "4/4 [==============================] - 1s 156ms/step - loss: 0.2647 - categorical_accuracy: 0.8537\n",
      "Epoch 57/100\n",
      "4/4 [==============================] - 1s 156ms/step - loss: 0.2883 - categorical_accuracy: 0.8862\n",
      "Epoch 58/100\n",
      "4/4 [==============================] - 1s 159ms/step - loss: 0.2333 - categorical_accuracy: 0.9187\n",
      "Epoch 59/100\n",
      "4/4 [==============================] - 1s 159ms/step - loss: 0.2062 - categorical_accuracy: 0.9024\n",
      "Epoch 60/100\n",
      "4/4 [==============================] - 1s 157ms/step - loss: 0.2162 - categorical_accuracy: 0.9106\n",
      "Epoch 61/100\n",
      "4/4 [==============================] - 1s 159ms/step - loss: 0.1513 - categorical_accuracy: 0.9431\n",
      "Epoch 62/100\n",
      "4/4 [==============================] - 1s 156ms/step - loss: 0.1517 - categorical_accuracy: 0.9268\n",
      "Epoch 63/100\n",
      "4/4 [==============================] - 1s 157ms/step - loss: 0.3596 - categorical_accuracy: 0.8293\n",
      "Epoch 64/100\n",
      "4/4 [==============================] - 1s 155ms/step - loss: 0.1712 - categorical_accuracy: 0.9350\n",
      "Epoch 65/100\n",
      "4/4 [==============================] - 1s 149ms/step - loss: 0.1561 - categorical_accuracy: 0.9350\n",
      "Epoch 66/100\n",
      "4/4 [==============================] - 1s 161ms/step - loss: 0.1405 - categorical_accuracy: 0.9675\n",
      "Epoch 67/100\n",
      "4/4 [==============================] - 1s 161ms/step - loss: 0.1778 - categorical_accuracy: 0.9187\n",
      "Epoch 68/100\n",
      "4/4 [==============================] - 1s 154ms/step - loss: 0.1187 - categorical_accuracy: 0.9593\n",
      "Epoch 69/100\n",
      "4/4 [==============================] - 1s 153ms/step - loss: 0.2152 - categorical_accuracy: 0.9675\n",
      "Epoch 70/100\n",
      "4/4 [==============================] - 1s 153ms/step - loss: 0.1144 - categorical_accuracy: 0.9675\n",
      "Epoch 71/100\n",
      "4/4 [==============================] - 1s 157ms/step - loss: 0.1563 - categorical_accuracy: 0.9675\n",
      "Epoch 72/100\n",
      "4/4 [==============================] - 1s 152ms/step - loss: 0.1362 - categorical_accuracy: 0.9675\n",
      "Epoch 73/100\n",
      "4/4 [==============================] - 1s 158ms/step - loss: 0.1074 - categorical_accuracy: 0.9512\n",
      "Epoch 74/100\n"
     ]
    },
    {
     "name": "stdout",
     "output_type": "stream",
     "text": [
      "4/4 [==============================] - 1s 152ms/step - loss: 0.0643 - categorical_accuracy: 0.9756\n",
      "Epoch 75/100\n",
      "4/4 [==============================] - 1s 145ms/step - loss: 0.0568 - categorical_accuracy: 0.9675\n",
      "Epoch 76/100\n",
      "4/4 [==============================] - 1s 158ms/step - loss: 0.0346 - categorical_accuracy: 0.9919\n",
      "Epoch 77/100\n",
      "4/4 [==============================] - 1s 153ms/step - loss: 0.0438 - categorical_accuracy: 0.9919\n",
      "Epoch 78/100\n",
      "4/4 [==============================] - 1s 154ms/step - loss: 0.0867 - categorical_accuracy: 0.9675\n",
      "Epoch 79/100\n",
      "4/4 [==============================] - 1s 157ms/step - loss: 0.2578 - categorical_accuracy: 0.9106\n",
      "Epoch 80/100\n",
      "4/4 [==============================] - 1s 155ms/step - loss: 0.3938 - categorical_accuracy: 0.8699\n",
      "Epoch 81/100\n",
      "4/4 [==============================] - 1s 158ms/step - loss: 0.3229 - categorical_accuracy: 0.8293\n",
      "Epoch 82/100\n",
      "4/4 [==============================] - 1s 154ms/step - loss: 0.2047 - categorical_accuracy: 0.8862\n",
      "Epoch 83/100\n",
      "4/4 [==============================] - 1s 158ms/step - loss: 0.1330 - categorical_accuracy: 0.9919\n",
      "Epoch 84/100\n",
      "4/4 [==============================] - 1s 160ms/step - loss: 0.1398 - categorical_accuracy: 0.9675\n",
      "Epoch 85/100\n",
      "4/4 [==============================] - 1s 157ms/step - loss: 0.1378 - categorical_accuracy: 0.9431\n",
      "Epoch 86/100\n",
      "4/4 [==============================] - 1s 156ms/step - loss: 0.0879 - categorical_accuracy: 0.9837\n",
      "Epoch 87/100\n",
      "4/4 [==============================] - 1s 158ms/step - loss: 0.0637 - categorical_accuracy: 0.9756\n",
      "Epoch 88/100\n",
      "4/4 [==============================] - 1s 159ms/step - loss: 0.0301 - categorical_accuracy: 0.9919\n",
      "Epoch 89/100\n",
      "4/4 [==============================] - 1s 161ms/step - loss: 0.0385 - categorical_accuracy: 0.9919\n",
      "Epoch 90/100\n",
      "4/4 [==============================] - 1s 156ms/step - loss: 0.0178 - categorical_accuracy: 0.9919\n",
      "Epoch 91/100\n",
      "4/4 [==============================] - 1s 162ms/step - loss: 0.0195 - categorical_accuracy: 0.9919\n",
      "Epoch 92/100\n",
      "4/4 [==============================] - 1s 161ms/step - loss: 0.0221 - categorical_accuracy: 0.9919\n",
      "Epoch 93/100\n",
      "4/4 [==============================] - 1s 157ms/step - loss: 0.0230 - categorical_accuracy: 0.9919\n",
      "Epoch 94/100\n",
      "4/4 [==============================] - 1s 156ms/step - loss: 0.0081 - categorical_accuracy: 1.0000\n",
      "Epoch 95/100\n",
      "4/4 [==============================] - 1s 163ms/step - loss: 0.0382 - categorical_accuracy: 0.9837\n",
      "Epoch 96/100\n",
      "4/4 [==============================] - 1s 159ms/step - loss: 0.0198 - categorical_accuracy: 0.9919\n",
      "Epoch 97/100\n",
      "4/4 [==============================] - 1s 156ms/step - loss: 0.0091 - categorical_accuracy: 1.0000\n",
      "Epoch 98/100\n",
      "4/4 [==============================] - 1s 158ms/step - loss: 0.0040 - categorical_accuracy: 1.0000\n",
      "Epoch 99/100\n",
      "4/4 [==============================] - 1s 157ms/step - loss: 0.0038 - categorical_accuracy: 1.0000\n",
      "Epoch 100/100\n",
      "4/4 [==============================] - 1s 158ms/step - loss: 0.0030 - categorical_accuracy: 1.0000\n"
     ]
    },
    {
     "data": {
      "text/plain": [
       "<keras.callbacks.History at 0x196dbdf55d0>"
      ]
     },
     "execution_count": 35,
     "metadata": {},
     "output_type": "execute_result"
    }
   ],
   "source": [
    "model.fit(X_train, y_train, epochs=100, callbacks=[tb_callback])"
   ]
  },
  {
   "cell_type": "code",
   "execution_count": 36,
   "metadata": {},
   "outputs": [
    {
     "name": "stdout",
     "output_type": "stream",
     "text": [
      "Model: \"sequential\"\n",
      "_________________________________________________________________\n",
      " Layer (type)                Output Shape              Param #   \n",
      "=================================================================\n",
      " lstm (LSTM)                 (None, 30, 64)            442112    \n",
      "                                                                 \n",
      " lstm_1 (LSTM)               (None, 30, 128)           98816     \n",
      "                                                                 \n",
      " lstm_2 (LSTM)               (None, 64)                49408     \n",
      "                                                                 \n",
      " dense (Dense)               (None, 64)                4160      \n",
      "                                                                 \n",
      " dense_1 (Dense)             (None, 32)                2080      \n",
      "                                                                 \n",
      " dense_2 (Dense)             (None, 2)                 66        \n",
      "                                                                 \n",
      "=================================================================\n",
      "Total params: 596,642\n",
      "Trainable params: 596,642\n",
      "Non-trainable params: 0\n",
      "_________________________________________________________________\n"
     ]
    }
   ],
   "source": [
    "model.summary()"
   ]
  },
  {
   "cell_type": "markdown",
   "metadata": {},
   "source": [
    "# 8. Make Predictions"
   ]
  },
  {
   "cell_type": "code",
   "execution_count": 37,
   "metadata": {},
   "outputs": [],
   "source": [
    "res = model.predict(X_test)"
   ]
  },
  {
   "cell_type": "code",
   "execution_count": 38,
   "metadata": {},
   "outputs": [
    {
     "data": {
      "text/plain": [
       "'high'"
      ]
     },
     "execution_count": 38,
     "metadata": {},
     "output_type": "execute_result"
    }
   ],
   "source": [
    "actions[np.argmax(res[1])]"
   ]
  },
  {
   "cell_type": "code",
   "execution_count": 39,
   "metadata": {},
   "outputs": [
    {
     "data": {
      "text/plain": [
       "'high'"
      ]
     },
     "execution_count": 39,
     "metadata": {},
     "output_type": "execute_result"
    }
   ],
   "source": [
    "actions[np.argmax(y_test[1])]"
   ]
  },
  {
   "cell_type": "markdown",
   "metadata": {},
   "source": [
    "### 9. Save Weights"
   ]
  },
  {
   "cell_type": "code",
   "execution_count": null,
   "metadata": {},
   "outputs": [],
   "source": [
    "model.save('action.h5')"
   ]
  },
  {
   "cell_type": "code",
   "execution_count": null,
   "metadata": {},
   "outputs": [],
   "source": [
    "del model"
   ]
  },
  {
   "cell_type": "code",
   "execution_count": null,
   "metadata": {},
   "outputs": [],
   "source": [
    "model.load_weights('action.h5')"
   ]
  },
  {
   "cell_type": "markdown",
   "metadata": {},
   "source": [
    "# 10. Evaluation using Confusion Matrix and Accuracy"
   ]
  },
  {
   "cell_type": "code",
   "execution_count": 40,
   "metadata": {},
   "outputs": [],
   "source": [
    "from sklearn.metrics import multilabel_confusion_matrix, accuracy_score"
   ]
  },
  {
   "cell_type": "code",
   "execution_count": 41,
   "metadata": {},
   "outputs": [],
   "source": [
    "yhat = model.predict(X_test)"
   ]
  },
  {
   "cell_type": "code",
   "execution_count": 42,
   "metadata": {},
   "outputs": [],
   "source": [
    "ytrue = np.argmax(y_test, axis=1).tolist()\n",
    "yhat = np.argmax(yhat, axis=1).tolist()"
   ]
  },
  {
   "cell_type": "code",
   "execution_count": 43,
   "metadata": {},
   "outputs": [
    {
     "data": {
      "text/plain": [
       "array([[[3, 0],\n",
       "        [0, 4]],\n",
       "\n",
       "       [[4, 0],\n",
       "        [0, 3]]], dtype=int64)"
      ]
     },
     "execution_count": 43,
     "metadata": {},
     "output_type": "execute_result"
    }
   ],
   "source": [
    "multilabel_confusion_matrix(ytrue, yhat)"
   ]
  },
  {
   "cell_type": "code",
   "execution_count": 44,
   "metadata": {},
   "outputs": [
    {
     "data": {
      "text/plain": [
       "1.0"
      ]
     },
     "execution_count": 44,
     "metadata": {},
     "output_type": "execute_result"
    }
   ],
   "source": [
    "accuracy_score(ytrue, yhat)"
   ]
  },
  {
   "cell_type": "markdown",
   "metadata": {},
   "source": [
    "# 11. Test in Real Time"
   ]
  },
  {
   "cell_type": "code",
   "execution_count": 45,
   "metadata": {},
   "outputs": [],
   "source": [
    "colors = [(245,117,16), (117,245,16), (16,117,245)]\n",
    "def prob_viz(res, actions, input_frame, colors):\n",
    "    output_frame = input_frame.copy()\n",
    "    for num, prob in enumerate(res):\n",
    "        cv2.rectangle(output_frame, (0,60+num*40), (int(prob*100), 90+num*40), colors[num], -1)\n",
    "        cv2.putText(output_frame, actions[num], (0, 85+num*40), cv2.FONT_HERSHEY_SIMPLEX, 1, (255,255,255), 2, cv2.LINE_AA)\n",
    "        \n",
    "    return output_frame"
   ]
  },
  {
   "cell_type": "code",
   "execution_count": 46,
   "metadata": {},
   "outputs": [
    {
     "ename": "TypeError",
     "evalue": "only size-1 arrays can be converted to Python scalars",
     "output_type": "error",
     "traceback": [
      "\u001b[1;31m---------------------------------------------------------------------------\u001b[0m",
      "\u001b[1;31mTypeError\u001b[0m                                 Traceback (most recent call last)",
      "Input \u001b[1;32mIn [46]\u001b[0m, in \u001b[0;36m<cell line: 2>\u001b[1;34m()\u001b[0m\n\u001b[0;32m      1\u001b[0m plt\u001b[38;5;241m.\u001b[39mfigure(figsize\u001b[38;5;241m=\u001b[39m(\u001b[38;5;241m18\u001b[39m,\u001b[38;5;241m18\u001b[39m))\n\u001b[1;32m----> 2\u001b[0m plt\u001b[38;5;241m.\u001b[39mimshow(\u001b[43mprob_viz\u001b[49m\u001b[43m(\u001b[49m\u001b[43mres\u001b[49m\u001b[43m,\u001b[49m\u001b[43m \u001b[49m\u001b[43mactions\u001b[49m\u001b[43m,\u001b[49m\u001b[43m \u001b[49m\u001b[43mimage\u001b[49m\u001b[43m,\u001b[49m\u001b[43m \u001b[49m\u001b[43mcolors\u001b[49m\u001b[43m)\u001b[49m)\n",
      "Input \u001b[1;32mIn [45]\u001b[0m, in \u001b[0;36mprob_viz\u001b[1;34m(res, actions, input_frame, colors)\u001b[0m\n\u001b[0;32m      3\u001b[0m output_frame \u001b[38;5;241m=\u001b[39m input_frame\u001b[38;5;241m.\u001b[39mcopy()\n\u001b[0;32m      4\u001b[0m \u001b[38;5;28;01mfor\u001b[39;00m num, prob \u001b[38;5;129;01min\u001b[39;00m \u001b[38;5;28menumerate\u001b[39m(res):\n\u001b[1;32m----> 5\u001b[0m     cv2\u001b[38;5;241m.\u001b[39mrectangle(output_frame, (\u001b[38;5;241m0\u001b[39m,\u001b[38;5;241m60\u001b[39m\u001b[38;5;241m+\u001b[39mnum\u001b[38;5;241m*\u001b[39m\u001b[38;5;241m40\u001b[39m), (\u001b[38;5;28;43mint\u001b[39;49m\u001b[43m(\u001b[49m\u001b[43mprob\u001b[49m\u001b[38;5;241;43m*\u001b[39;49m\u001b[38;5;241;43m100\u001b[39;49m\u001b[43m)\u001b[49m, \u001b[38;5;241m90\u001b[39m\u001b[38;5;241m+\u001b[39mnum\u001b[38;5;241m*\u001b[39m\u001b[38;5;241m40\u001b[39m), colors[num], \u001b[38;5;241m-\u001b[39m\u001b[38;5;241m1\u001b[39m)\n\u001b[0;32m      6\u001b[0m     cv2\u001b[38;5;241m.\u001b[39mputText(output_frame, actions[num], (\u001b[38;5;241m0\u001b[39m, \u001b[38;5;241m85\u001b[39m\u001b[38;5;241m+\u001b[39mnum\u001b[38;5;241m*\u001b[39m\u001b[38;5;241m40\u001b[39m), cv2\u001b[38;5;241m.\u001b[39mFONT_HERSHEY_SIMPLEX, \u001b[38;5;241m1\u001b[39m, (\u001b[38;5;241m255\u001b[39m,\u001b[38;5;241m255\u001b[39m,\u001b[38;5;241m255\u001b[39m), \u001b[38;5;241m2\u001b[39m, cv2\u001b[38;5;241m.\u001b[39mLINE_AA)\n\u001b[0;32m      8\u001b[0m \u001b[38;5;28;01mreturn\u001b[39;00m output_frame\n",
      "\u001b[1;31mTypeError\u001b[0m: only size-1 arrays can be converted to Python scalars"
     ]
    },
    {
     "data": {
      "text/plain": [
       "<Figure size 1296x1296 with 0 Axes>"
      ]
     },
     "metadata": {},
     "output_type": "display_data"
    }
   ],
   "source": [
    "plt.figure(figsize=(18,18))\n",
    "plt.imshow(prob_viz(res, actions, image, colors))"
   ]
  },
  {
   "cell_type": "code",
   "execution_count": null,
   "metadata": {},
   "outputs": [],
   "source": [
    "sequence.reverse()"
   ]
  },
  {
   "cell_type": "code",
   "execution_count": null,
   "metadata": {},
   "outputs": [],
   "source": [
    "len(sequence)"
   ]
  },
  {
   "cell_type": "code",
   "execution_count": null,
   "metadata": {},
   "outputs": [],
   "source": [
    "sequence.append('def')"
   ]
  },
  {
   "cell_type": "code",
   "execution_count": null,
   "metadata": {},
   "outputs": [],
   "source": [
    "sequence.reverse()"
   ]
  },
  {
   "cell_type": "code",
   "execution_count": 47,
   "metadata": {
    "scrolled": true
   },
   "outputs": [
    {
     "ename": "TypeError",
     "evalue": "'int' object is not subscriptable",
     "output_type": "error",
     "traceback": [
      "\u001b[1;31m---------------------------------------------------------------------------\u001b[0m",
      "\u001b[1;31mTypeError\u001b[0m                                 Traceback (most recent call last)",
      "Input \u001b[1;32mIn [47]\u001b[0m, in \u001b[0;36m<cell line: 1>\u001b[1;34m()\u001b[0m\n\u001b[1;32m----> 1\u001b[0m \u001b[43msequence\u001b[49m\u001b[43m[\u001b[49m\u001b[38;5;241;43m-\u001b[39;49m\u001b[38;5;241;43m30\u001b[39;49m\u001b[43m:\u001b[49m\u001b[43m]\u001b[49m\n",
      "\u001b[1;31mTypeError\u001b[0m: 'int' object is not subscriptable"
     ]
    }
   ],
   "source": [
    "sequence[-30:]"
   ]
  },
  {
   "cell_type": "code",
   "execution_count": 51,
   "metadata": {},
   "outputs": [
    {
     "name": "stdout",
     "output_type": "stream",
     "text": [
      "<class 'mediapipe.python.solution_base.SolutionOutputs'>\n",
      "<class 'mediapipe.python.solution_base.SolutionOutputs'>\n",
      "<class 'mediapipe.python.solution_base.SolutionOutputs'>\n",
      "<class 'mediapipe.python.solution_base.SolutionOutputs'>\n",
      "<class 'mediapipe.python.solution_base.SolutionOutputs'>\n",
      "<class 'mediapipe.python.solution_base.SolutionOutputs'>\n",
      "<class 'mediapipe.python.solution_base.SolutionOutputs'>\n",
      "<class 'mediapipe.python.solution_base.SolutionOutputs'>\n",
      "<class 'mediapipe.python.solution_base.SolutionOutputs'>\n",
      "<class 'mediapipe.python.solution_base.SolutionOutputs'>\n",
      "<class 'mediapipe.python.solution_base.SolutionOutputs'>\n",
      "<class 'mediapipe.python.solution_base.SolutionOutputs'>\n",
      "<class 'mediapipe.python.solution_base.SolutionOutputs'>\n",
      "<class 'mediapipe.python.solution_base.SolutionOutputs'>\n",
      "<class 'mediapipe.python.solution_base.SolutionOutputs'>\n",
      "<class 'mediapipe.python.solution_base.SolutionOutputs'>\n",
      "<class 'mediapipe.python.solution_base.SolutionOutputs'>\n",
      "<class 'mediapipe.python.solution_base.SolutionOutputs'>\n",
      "<class 'mediapipe.python.solution_base.SolutionOutputs'>\n",
      "<class 'mediapipe.python.solution_base.SolutionOutputs'>\n",
      "<class 'mediapipe.python.solution_base.SolutionOutputs'>\n",
      "<class 'mediapipe.python.solution_base.SolutionOutputs'>\n",
      "<class 'mediapipe.python.solution_base.SolutionOutputs'>\n",
      "<class 'mediapipe.python.solution_base.SolutionOutputs'>\n",
      "<class 'mediapipe.python.solution_base.SolutionOutputs'>\n",
      "<class 'mediapipe.python.solution_base.SolutionOutputs'>\n",
      "<class 'mediapipe.python.solution_base.SolutionOutputs'>\n",
      "<class 'mediapipe.python.solution_base.SolutionOutputs'>\n",
      "<class 'mediapipe.python.solution_base.SolutionOutputs'>\n",
      "<class 'mediapipe.python.solution_base.SolutionOutputs'>\n",
      "low\n",
      "<class 'mediapipe.python.solution_base.SolutionOutputs'>\n",
      "low\n",
      "<class 'mediapipe.python.solution_base.SolutionOutputs'>\n",
      "low\n",
      "<class 'mediapipe.python.solution_base.SolutionOutputs'>\n",
      "low\n",
      "<class 'mediapipe.python.solution_base.SolutionOutputs'>\n",
      "low\n",
      "<class 'mediapipe.python.solution_base.SolutionOutputs'>\n",
      "low\n",
      "<class 'mediapipe.python.solution_base.SolutionOutputs'>\n",
      "low\n",
      "<class 'mediapipe.python.solution_base.SolutionOutputs'>\n",
      "low\n",
      "<class 'mediapipe.python.solution_base.SolutionOutputs'>\n",
      "low\n",
      "<class 'mediapipe.python.solution_base.SolutionOutputs'>\n",
      "low\n",
      "<class 'mediapipe.python.solution_base.SolutionOutputs'>\n",
      "low\n",
      "<class 'mediapipe.python.solution_base.SolutionOutputs'>\n",
      "low\n",
      "<class 'mediapipe.python.solution_base.SolutionOutputs'>\n",
      "low\n",
      "<class 'mediapipe.python.solution_base.SolutionOutputs'>\n",
      "low\n",
      "<class 'mediapipe.python.solution_base.SolutionOutputs'>\n",
      "low\n",
      "<class 'mediapipe.python.solution_base.SolutionOutputs'>\n",
      "low\n",
      "<class 'mediapipe.python.solution_base.SolutionOutputs'>\n",
      "low\n",
      "<class 'mediapipe.python.solution_base.SolutionOutputs'>\n",
      "low\n",
      "<class 'mediapipe.python.solution_base.SolutionOutputs'>\n",
      "high\n",
      "<class 'mediapipe.python.solution_base.SolutionOutputs'>\n",
      "high\n",
      "<class 'mediapipe.python.solution_base.SolutionOutputs'>\n",
      "high\n",
      "<class 'mediapipe.python.solution_base.SolutionOutputs'>\n",
      "high\n",
      "<class 'mediapipe.python.solution_base.SolutionOutputs'>\n",
      "high\n",
      "<class 'mediapipe.python.solution_base.SolutionOutputs'>\n",
      "high\n",
      "<class 'mediapipe.python.solution_base.SolutionOutputs'>\n",
      "high\n",
      "<class 'mediapipe.python.solution_base.SolutionOutputs'>\n",
      "high\n",
      "<class 'mediapipe.python.solution_base.SolutionOutputs'>\n",
      "high\n",
      "<class 'mediapipe.python.solution_base.SolutionOutputs'>\n",
      "high\n",
      "<class 'mediapipe.python.solution_base.SolutionOutputs'>\n",
      "high\n",
      "<class 'mediapipe.python.solution_base.SolutionOutputs'>\n",
      "high\n",
      "<class 'mediapipe.python.solution_base.SolutionOutputs'>\n",
      "high\n",
      "<class 'mediapipe.python.solution_base.SolutionOutputs'>\n",
      "high\n",
      "<class 'mediapipe.python.solution_base.SolutionOutputs'>\n",
      "low\n",
      "<class 'mediapipe.python.solution_base.SolutionOutputs'>\n",
      "low\n",
      "<class 'mediapipe.python.solution_base.SolutionOutputs'>\n",
      "low\n",
      "<class 'mediapipe.python.solution_base.SolutionOutputs'>\n",
      "low\n",
      "<class 'mediapipe.python.solution_base.SolutionOutputs'>\n",
      "low\n",
      "<class 'mediapipe.python.solution_base.SolutionOutputs'>\n",
      "low\n",
      "<class 'mediapipe.python.solution_base.SolutionOutputs'>\n",
      "low\n",
      "<class 'mediapipe.python.solution_base.SolutionOutputs'>\n",
      "low\n",
      "<class 'mediapipe.python.solution_base.SolutionOutputs'>\n",
      "low\n",
      "<class 'mediapipe.python.solution_base.SolutionOutputs'>\n",
      "low\n",
      "<class 'mediapipe.python.solution_base.SolutionOutputs'>\n",
      "low\n",
      "<class 'mediapipe.python.solution_base.SolutionOutputs'>\n",
      "low\n",
      "<class 'mediapipe.python.solution_base.SolutionOutputs'>\n",
      "low\n",
      "<class 'mediapipe.python.solution_base.SolutionOutputs'>\n",
      "low\n",
      "<class 'mediapipe.python.solution_base.SolutionOutputs'>\n",
      "low\n",
      "<class 'mediapipe.python.solution_base.SolutionOutputs'>\n",
      "low\n",
      "<class 'mediapipe.python.solution_base.SolutionOutputs'>\n",
      "low\n",
      "<class 'mediapipe.python.solution_base.SolutionOutputs'>\n",
      "low\n",
      "<class 'mediapipe.python.solution_base.SolutionOutputs'>\n",
      "low\n",
      "<class 'mediapipe.python.solution_base.SolutionOutputs'>\n",
      "low\n",
      "<class 'mediapipe.python.solution_base.SolutionOutputs'>\n",
      "low\n",
      "<class 'mediapipe.python.solution_base.SolutionOutputs'>\n",
      "low\n",
      "<class 'mediapipe.python.solution_base.SolutionOutputs'>\n",
      "low\n",
      "<class 'mediapipe.python.solution_base.SolutionOutputs'>\n",
      "low\n",
      "<class 'mediapipe.python.solution_base.SolutionOutputs'>\n",
      "low\n",
      "<class 'mediapipe.python.solution_base.SolutionOutputs'>\n",
      "low\n",
      "<class 'mediapipe.python.solution_base.SolutionOutputs'>\n",
      "low\n",
      "<class 'mediapipe.python.solution_base.SolutionOutputs'>\n",
      "low\n",
      "<class 'mediapipe.python.solution_base.SolutionOutputs'>\n",
      "low\n",
      "<class 'mediapipe.python.solution_base.SolutionOutputs'>\n",
      "low\n",
      "<class 'mediapipe.python.solution_base.SolutionOutputs'>\n",
      "low\n",
      "<class 'mediapipe.python.solution_base.SolutionOutputs'>\n",
      "low\n",
      "<class 'mediapipe.python.solution_base.SolutionOutputs'>\n",
      "low\n",
      "<class 'mediapipe.python.solution_base.SolutionOutputs'>\n",
      "low\n",
      "<class 'mediapipe.python.solution_base.SolutionOutputs'>\n",
      "low\n",
      "<class 'mediapipe.python.solution_base.SolutionOutputs'>\n",
      "low\n",
      "<class 'mediapipe.python.solution_base.SolutionOutputs'>\n",
      "low\n",
      "<class 'mediapipe.python.solution_base.SolutionOutputs'>\n",
      "high\n",
      "<class 'mediapipe.python.solution_base.SolutionOutputs'>\n",
      "high\n",
      "<class 'mediapipe.python.solution_base.SolutionOutputs'>\n",
      "high\n",
      "<class 'mediapipe.python.solution_base.SolutionOutputs'>\n",
      "high\n",
      "<class 'mediapipe.python.solution_base.SolutionOutputs'>\n",
      "high\n",
      "<class 'mediapipe.python.solution_base.SolutionOutputs'>\n",
      "high\n",
      "<class 'mediapipe.python.solution_base.SolutionOutputs'>\n",
      "high\n",
      "<class 'mediapipe.python.solution_base.SolutionOutputs'>\n",
      "high\n",
      "<class 'mediapipe.python.solution_base.SolutionOutputs'>\n",
      "high\n",
      "<class 'mediapipe.python.solution_base.SolutionOutputs'>\n",
      "high\n",
      "<class 'mediapipe.python.solution_base.SolutionOutputs'>\n",
      "high\n",
      "<class 'mediapipe.python.solution_base.SolutionOutputs'>\n",
      "high\n",
      "<class 'mediapipe.python.solution_base.SolutionOutputs'>\n",
      "high\n",
      "<class 'mediapipe.python.solution_base.SolutionOutputs'>\n",
      "high\n",
      "<class 'mediapipe.python.solution_base.SolutionOutputs'>\n",
      "high\n",
      "<class 'mediapipe.python.solution_base.SolutionOutputs'>\n",
      "high\n",
      "<class 'mediapipe.python.solution_base.SolutionOutputs'>\n",
      "high\n",
      "<class 'mediapipe.python.solution_base.SolutionOutputs'>\n",
      "high\n",
      "<class 'mediapipe.python.solution_base.SolutionOutputs'>\n",
      "low\n",
      "<class 'mediapipe.python.solution_base.SolutionOutputs'>\n",
      "low\n",
      "<class 'mediapipe.python.solution_base.SolutionOutputs'>\n",
      "low\n",
      "<class 'mediapipe.python.solution_base.SolutionOutputs'>\n",
      "low\n",
      "<class 'mediapipe.python.solution_base.SolutionOutputs'>\n",
      "low\n",
      "<class 'mediapipe.python.solution_base.SolutionOutputs'>\n",
      "low\n",
      "<class 'mediapipe.python.solution_base.SolutionOutputs'>\n",
      "low\n",
      "<class 'mediapipe.python.solution_base.SolutionOutputs'>\n",
      "low\n",
      "<class 'mediapipe.python.solution_base.SolutionOutputs'>\n",
      "low\n",
      "<class 'mediapipe.python.solution_base.SolutionOutputs'>\n",
      "low\n",
      "<class 'mediapipe.python.solution_base.SolutionOutputs'>\n",
      "low\n",
      "<class 'mediapipe.python.solution_base.SolutionOutputs'>\n",
      "low\n",
      "<class 'mediapipe.python.solution_base.SolutionOutputs'>\n",
      "low\n",
      "<class 'mediapipe.python.solution_base.SolutionOutputs'>\n",
      "low\n",
      "<class 'mediapipe.python.solution_base.SolutionOutputs'>\n",
      "low\n",
      "<class 'mediapipe.python.solution_base.SolutionOutputs'>\n",
      "low\n",
      "<class 'mediapipe.python.solution_base.SolutionOutputs'>\n",
      "low\n",
      "<class 'mediapipe.python.solution_base.SolutionOutputs'>\n",
      "low\n",
      "<class 'mediapipe.python.solution_base.SolutionOutputs'>\n",
      "low\n",
      "<class 'mediapipe.python.solution_base.SolutionOutputs'>\n",
      "low\n",
      "<class 'mediapipe.python.solution_base.SolutionOutputs'>\n"
     ]
    },
    {
     "name": "stdout",
     "output_type": "stream",
     "text": [
      "low\n",
      "<class 'mediapipe.python.solution_base.SolutionOutputs'>\n",
      "low\n",
      "<class 'mediapipe.python.solution_base.SolutionOutputs'>\n",
      "low\n",
      "<class 'mediapipe.python.solution_base.SolutionOutputs'>\n",
      "low\n",
      "<class 'mediapipe.python.solution_base.SolutionOutputs'>\n",
      "low\n",
      "<class 'mediapipe.python.solution_base.SolutionOutputs'>\n",
      "low\n",
      "<class 'mediapipe.python.solution_base.SolutionOutputs'>\n",
      "low\n",
      "<class 'mediapipe.python.solution_base.SolutionOutputs'>\n",
      "low\n",
      "<class 'mediapipe.python.solution_base.SolutionOutputs'>\n",
      "low\n",
      "<class 'mediapipe.python.solution_base.SolutionOutputs'>\n",
      "low\n",
      "<class 'mediapipe.python.solution_base.SolutionOutputs'>\n",
      "low\n",
      "<class 'mediapipe.python.solution_base.SolutionOutputs'>\n",
      "low\n",
      "<class 'mediapipe.python.solution_base.SolutionOutputs'>\n",
      "low\n",
      "<class 'mediapipe.python.solution_base.SolutionOutputs'>\n",
      "low\n",
      "<class 'mediapipe.python.solution_base.SolutionOutputs'>\n",
      "low\n",
      "<class 'mediapipe.python.solution_base.SolutionOutputs'>\n",
      "low\n",
      "<class 'mediapipe.python.solution_base.SolutionOutputs'>\n",
      "low\n",
      "<class 'mediapipe.python.solution_base.SolutionOutputs'>\n",
      "low\n",
      "<class 'mediapipe.python.solution_base.SolutionOutputs'>\n",
      "low\n",
      "<class 'mediapipe.python.solution_base.SolutionOutputs'>\n",
      "low\n",
      "<class 'mediapipe.python.solution_base.SolutionOutputs'>\n",
      "low\n",
      "<class 'mediapipe.python.solution_base.SolutionOutputs'>\n",
      "low\n",
      "<class 'mediapipe.python.solution_base.SolutionOutputs'>\n",
      "low\n",
      "<class 'mediapipe.python.solution_base.SolutionOutputs'>\n",
      "low\n",
      "<class 'mediapipe.python.solution_base.SolutionOutputs'>\n",
      "low\n",
      "<class 'mediapipe.python.solution_base.SolutionOutputs'>\n",
      "low\n",
      "<class 'mediapipe.python.solution_base.SolutionOutputs'>\n",
      "low\n",
      "<class 'mediapipe.python.solution_base.SolutionOutputs'>\n",
      "low\n",
      "<class 'mediapipe.python.solution_base.SolutionOutputs'>\n",
      "low\n",
      "<class 'mediapipe.python.solution_base.SolutionOutputs'>\n",
      "low\n",
      "<class 'mediapipe.python.solution_base.SolutionOutputs'>\n",
      "low\n",
      "<class 'mediapipe.python.solution_base.SolutionOutputs'>\n",
      "low\n",
      "<class 'mediapipe.python.solution_base.SolutionOutputs'>\n",
      "low\n",
      "<class 'mediapipe.python.solution_base.SolutionOutputs'>\n",
      "low\n",
      "<class 'mediapipe.python.solution_base.SolutionOutputs'>\n",
      "low\n",
      "<class 'mediapipe.python.solution_base.SolutionOutputs'>\n",
      "low\n",
      "<class 'mediapipe.python.solution_base.SolutionOutputs'>\n",
      "low\n",
      "<class 'mediapipe.python.solution_base.SolutionOutputs'>\n",
      "low\n",
      "<class 'mediapipe.python.solution_base.SolutionOutputs'>\n",
      "low\n",
      "<class 'mediapipe.python.solution_base.SolutionOutputs'>\n",
      "low\n",
      "<class 'mediapipe.python.solution_base.SolutionOutputs'>\n",
      "low\n",
      "<class 'mediapipe.python.solution_base.SolutionOutputs'>\n",
      "low\n",
      "<class 'mediapipe.python.solution_base.SolutionOutputs'>\n",
      "low\n",
      "<class 'mediapipe.python.solution_base.SolutionOutputs'>\n",
      "low\n",
      "<class 'mediapipe.python.solution_base.SolutionOutputs'>\n",
      "low\n",
      "<class 'mediapipe.python.solution_base.SolutionOutputs'>\n",
      "low\n",
      "<class 'mediapipe.python.solution_base.SolutionOutputs'>\n",
      "low\n",
      "<class 'mediapipe.python.solution_base.SolutionOutputs'>\n",
      "low\n",
      "<class 'mediapipe.python.solution_base.SolutionOutputs'>\n",
      "low\n",
      "<class 'mediapipe.python.solution_base.SolutionOutputs'>\n",
      "low\n",
      "<class 'mediapipe.python.solution_base.SolutionOutputs'>\n",
      "low\n",
      "<class 'mediapipe.python.solution_base.SolutionOutputs'>\n",
      "low\n",
      "<class 'mediapipe.python.solution_base.SolutionOutputs'>\n",
      "low\n",
      "<class 'mediapipe.python.solution_base.SolutionOutputs'>\n",
      "low\n",
      "<class 'mediapipe.python.solution_base.SolutionOutputs'>\n",
      "low\n",
      "<class 'mediapipe.python.solution_base.SolutionOutputs'>\n",
      "low\n",
      "<class 'mediapipe.python.solution_base.SolutionOutputs'>\n",
      "low\n",
      "<class 'mediapipe.python.solution_base.SolutionOutputs'>\n",
      "low\n",
      "<class 'mediapipe.python.solution_base.SolutionOutputs'>\n",
      "high\n",
      "<class 'mediapipe.python.solution_base.SolutionOutputs'>\n",
      "high\n",
      "<class 'mediapipe.python.solution_base.SolutionOutputs'>\n",
      "high\n",
      "<class 'mediapipe.python.solution_base.SolutionOutputs'>\n",
      "high\n",
      "<class 'mediapipe.python.solution_base.SolutionOutputs'>\n",
      "high\n",
      "<class 'mediapipe.python.solution_base.SolutionOutputs'>\n",
      "high\n",
      "<class 'mediapipe.python.solution_base.SolutionOutputs'>\n",
      "high\n",
      "<class 'mediapipe.python.solution_base.SolutionOutputs'>\n",
      "high\n",
      "<class 'mediapipe.python.solution_base.SolutionOutputs'>\n",
      "high\n",
      "<class 'mediapipe.python.solution_base.SolutionOutputs'>\n",
      "high\n",
      "<class 'mediapipe.python.solution_base.SolutionOutputs'>\n",
      "high\n",
      "<class 'mediapipe.python.solution_base.SolutionOutputs'>\n",
      "high\n",
      "<class 'mediapipe.python.solution_base.SolutionOutputs'>\n",
      "high\n",
      "<class 'mediapipe.python.solution_base.SolutionOutputs'>\n",
      "high\n",
      "<class 'mediapipe.python.solution_base.SolutionOutputs'>\n",
      "high\n",
      "<class 'mediapipe.python.solution_base.SolutionOutputs'>\n",
      "high\n",
      "<class 'mediapipe.python.solution_base.SolutionOutputs'>\n",
      "low\n"
     ]
    }
   ],
   "source": [
    "# 1. New detection variables\n",
    "sequence = []\n",
    "sentence = []\n",
    "threshold = 0.8\n",
    "\n",
    "cap = cv2.VideoCapture(0)\n",
    "# Set mediapipe model \n",
    "with mp_holistic.Holistic(min_detection_confidence=0.5, min_tracking_confidence=0.5) as holistic:\n",
    "    while cap.isOpened():\n",
    "\n",
    "        # Read feed\n",
    "        ret, frame = cap.read()\n",
    "\n",
    "        # Make detections\n",
    "        image, results = mediapipe_detection(frame, holistic)\n",
    "        print(results)\n",
    "        \n",
    "        # Draw landmarks\n",
    "        draw_styled_landmarks(image, results)\n",
    "        \n",
    "        # 2. Prediction logic\n",
    "        keypoints = extract_keypoints(results)\n",
    "        #sequence.insert(0,keypoints)\n",
    "        #sequence = sequence[:30]\n",
    "        sequence.append(keypoints)\n",
    "        sequence = sequence[-30:]\n",
    "        \n",
    "        if len(sequence) == 30:\n",
    "            res = model.predict(np.expand_dims(sequence, axis=0))[0]\n",
    "            print(actions[np.argmax(res)])\n",
    "            \n",
    "            \n",
    "        #3. Viz logic\n",
    "            if res[np.argmax(res)] > threshold: \n",
    "                if len(sentence) > 0: \n",
    "                    if actions[np.argmax(res)] != sentence[-1]:\n",
    "                        sentence.append(actions[np.argmax(res)])\n",
    "                else:\n",
    "                    sentence.append(actions[np.argmax(res)])\n",
    "\n",
    "            if len(sentence) > 5: \n",
    "                sentence = sentence[-5:]\n",
    "\n",
    "            # Viz probabilities\n",
    "            image = prob_viz(res, actions, image, colors)\n",
    "            \n",
    "        cv2.rectangle(image, (0,0), (640, 40), (245, 117, 16), -1)\n",
    "        cv2.putText(image, ' '.join(sentence), (3,30), \n",
    "                       cv2.FONT_HERSHEY_SIMPLEX, 1, (255, 255, 255), 2, cv2.LINE_AA)\n",
    "        \n",
    "        # Show to screen\n",
    "        cv2.imshow('OpenCV Feed', image)\n",
    "\n",
    "        # Break gracefully\n",
    "        if cv2.waitKey(10) & 0xFF == ord('q'):\n",
    "            break\n",
    "    cap.release()\n",
    "    cv2.destroyAllWindows()"
   ]
  },
  {
   "cell_type": "code",
   "execution_count": 49,
   "metadata": {},
   "outputs": [],
   "source": [
    "cap.release()\n",
    "cv2.destroyAllWindows()"
   ]
  },
  {
   "cell_type": "code",
   "execution_count": 50,
   "metadata": {},
   "outputs": [
    {
     "data": {
      "text/plain": [
       "True"
      ]
     },
     "execution_count": 50,
     "metadata": {},
     "output_type": "execute_result"
    }
   ],
   "source": [
    "res[np.argmax(res)] > threshold"
   ]
  },
  {
   "cell_type": "code",
   "execution_count": null,
   "metadata": {},
   "outputs": [],
   "source": [
    "(num_sequences,30,1662)"
   ]
  },
  {
   "cell_type": "code",
   "execution_count": null,
   "metadata": {},
   "outputs": [],
   "source": [
    "model.predict(np.expand_dims(X_test[0], axis=0))"
   ]
  },
  {
   "cell_type": "code",
   "execution_count": null,
   "metadata": {},
   "outputs": [],
   "source": []
  },
  {
   "cell_type": "code",
   "execution_count": null,
   "metadata": {},
   "outputs": [],
   "source": []
  }
 ],
 "metadata": {
  "kernelspec": {
   "display_name": "Python 3 (ipykernel)",
   "language": "python",
   "name": "python3"
  },
  "language_info": {
   "codemirror_mode": {
    "name": "ipython",
    "version": 3
   },
   "file_extension": ".py",
   "mimetype": "text/x-python",
   "name": "python",
   "nbconvert_exporter": "python",
   "pygments_lexer": "ipython3",
   "version": "3.10.2"
  }
 },
 "nbformat": 4,
 "nbformat_minor": 2
}

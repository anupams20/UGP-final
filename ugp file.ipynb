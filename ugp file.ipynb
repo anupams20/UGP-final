{
 "cells": [
  {
   "cell_type": "markdown",
   "metadata": {},
   "source": [
    "# 1. Import and Install Dependencies"
   ]
  },
  {
   "cell_type": "code",
   "execution_count": 1,
   "metadata": {},
   "outputs": [],
   "source": [
    "import cv2\n",
    "import numpy as np\n",
    "import os\n",
    "from matplotlib import pyplot as plt\n",
    "import time\n",
    "import mediapipe as mp"
   ]
  },
  {
   "cell_type": "markdown",
   "metadata": {},
   "source": [
    "# 2. Keypoints using MP Holistic"
   ]
  },
  {
   "cell_type": "code",
   "execution_count": 2,
   "metadata": {},
   "outputs": [],
   "source": [
    "mp_holistic = mp.solutions.holistic # Holistic model\n",
    "mp_drawing = mp.solutions.drawing_utils # Drawing utilities"
   ]
  },
  {
   "cell_type": "code",
   "execution_count": 3,
   "metadata": {},
   "outputs": [],
   "source": [
    "def mediapipe_detection(image, model):\n",
    "    image = cv2.cvtColor(image, cv2.COLOR_BGR2RGB) # COLOR CONVERSION BGR 2 RGB\n",
    "    image.flags.writeable = False                  # Image is no longer writeable\n",
    "    results = model.process(image)                 # Make prediction\n",
    "    image.flags.writeable = True                   # Image is now writeable \n",
    "    image = cv2.cvtColor(image, cv2.COLOR_RGB2BGR) # COLOR COVERSION RGB 2 BGR\n",
    "    return image, results"
   ]
  },
  {
   "cell_type": "code",
   "execution_count": 4,
   "metadata": {},
   "outputs": [],
   "source": [
    "def draw_landmarks(image, results):\n",
    "    mp_drawing.draw_landmarks(image, results.face_landmarks, mp_holistic.FACE_CONNECTIONS) # Draw face connections\n",
    "    mp_drawing.draw_landmarks(image, results.pose_landmarks, mp_holistic.POSE_CONNECTIONS) # Draw pose connections\n",
    "    mp_drawing.draw_landmarks(image, results.left_hand_landmarks, mp_holistic.HAND_CONNECTIONS) # Draw left hand connections\n",
    "    mp_drawing.draw_landmarks(image, results.right_hand_landmarks, mp_holistic.HAND_CONNECTIONS) # Draw right hand connections"
   ]
  },
  {
   "cell_type": "code",
   "execution_count": 5,
   "metadata": {},
   "outputs": [],
   "source": [
    "def draw_styled_landmarks(image, results):\n",
    "    # Draw face connections\n",
    "    mp_drawing.draw_landmarks(image, results.face_landmarks, mp_holistic.FACEMESH_TESSELATION, \n",
    "                             mp_drawing.DrawingSpec(color=(80,110,10), thickness=1, circle_radius=1), \n",
    "                             mp_drawing.DrawingSpec(color=(80,256,121), thickness=1, circle_radius=1)\n",
    "                             ) \n",
    "    # Draw pose connections\n",
    "    mp_drawing.draw_landmarks(image, results.pose_landmarks, mp_holistic.POSE_CONNECTIONS,\n",
    "                             mp_drawing.DrawingSpec(color=(80,22,10), thickness=2, circle_radius=4), \n",
    "                             mp_drawing.DrawingSpec(color=(80,44,121), thickness=2, circle_radius=2)\n",
    "                             ) \n",
    "    # Draw left hand connections\n",
    "    mp_drawing.draw_landmarks(image, results.left_hand_landmarks, mp_holistic.HAND_CONNECTIONS, \n",
    "                             mp_drawing.DrawingSpec(color=(121,22,76), thickness=2, circle_radius=4), \n",
    "                             mp_drawing.DrawingSpec(color=(121,44,250), thickness=2, circle_radius=2)\n",
    "                             ) \n",
    "    # Draw right hand connections  \n",
    "    mp_drawing.draw_landmarks(image, results.right_hand_landmarks, mp_holistic.HAND_CONNECTIONS, \n",
    "                             mp_drawing.DrawingSpec(color=(245,117,66), thickness=2, circle_radius=4), \n",
    "                             mp_drawing.DrawingSpec(color=(245,66,230), thickness=2, circle_radius=2)\n",
    "                             ) "
   ]
  },
  {
   "cell_type": "code",
   "execution_count": 7,
   "metadata": {},
   "outputs": [
    {
     "name": "stdout",
     "output_type": "stream",
     "text": [
      "<class 'mediapipe.python.solution_base.SolutionOutputs'>\n",
      "<class 'mediapipe.python.solution_base.SolutionOutputs'>\n",
      "<class 'mediapipe.python.solution_base.SolutionOutputs'>\n",
      "<class 'mediapipe.python.solution_base.SolutionOutputs'>\n",
      "<class 'mediapipe.python.solution_base.SolutionOutputs'>\n",
      "<class 'mediapipe.python.solution_base.SolutionOutputs'>\n",
      "<class 'mediapipe.python.solution_base.SolutionOutputs'>\n",
      "<class 'mediapipe.python.solution_base.SolutionOutputs'>\n",
      "<class 'mediapipe.python.solution_base.SolutionOutputs'>\n",
      "<class 'mediapipe.python.solution_base.SolutionOutputs'>\n",
      "<class 'mediapipe.python.solution_base.SolutionOutputs'>\n",
      "<class 'mediapipe.python.solution_base.SolutionOutputs'>\n",
      "<class 'mediapipe.python.solution_base.SolutionOutputs'>\n",
      "<class 'mediapipe.python.solution_base.SolutionOutputs'>\n",
      "<class 'mediapipe.python.solution_base.SolutionOutputs'>\n",
      "<class 'mediapipe.python.solution_base.SolutionOutputs'>\n",
      "<class 'mediapipe.python.solution_base.SolutionOutputs'>\n",
      "<class 'mediapipe.python.solution_base.SolutionOutputs'>\n",
      "<class 'mediapipe.python.solution_base.SolutionOutputs'>\n",
      "<class 'mediapipe.python.solution_base.SolutionOutputs'>\n",
      "<class 'mediapipe.python.solution_base.SolutionOutputs'>\n",
      "<class 'mediapipe.python.solution_base.SolutionOutputs'>\n",
      "<class 'mediapipe.python.solution_base.SolutionOutputs'>\n",
      "<class 'mediapipe.python.solution_base.SolutionOutputs'>\n",
      "<class 'mediapipe.python.solution_base.SolutionOutputs'>\n",
      "<class 'mediapipe.python.solution_base.SolutionOutputs'>\n",
      "<class 'mediapipe.python.solution_base.SolutionOutputs'>\n",
      "<class 'mediapipe.python.solution_base.SolutionOutputs'>\n",
      "<class 'mediapipe.python.solution_base.SolutionOutputs'>\n",
      "<class 'mediapipe.python.solution_base.SolutionOutputs'>\n",
      "<class 'mediapipe.python.solution_base.SolutionOutputs'>\n",
      "<class 'mediapipe.python.solution_base.SolutionOutputs'>\n",
      "<class 'mediapipe.python.solution_base.SolutionOutputs'>\n",
      "<class 'mediapipe.python.solution_base.SolutionOutputs'>\n",
      "<class 'mediapipe.python.solution_base.SolutionOutputs'>\n",
      "<class 'mediapipe.python.solution_base.SolutionOutputs'>\n",
      "<class 'mediapipe.python.solution_base.SolutionOutputs'>\n",
      "<class 'mediapipe.python.solution_base.SolutionOutputs'>\n",
      "<class 'mediapipe.python.solution_base.SolutionOutputs'>\n",
      "<class 'mediapipe.python.solution_base.SolutionOutputs'>\n",
      "<class 'mediapipe.python.solution_base.SolutionOutputs'>\n",
      "<class 'mediapipe.python.solution_base.SolutionOutputs'>\n",
      "<class 'mediapipe.python.solution_base.SolutionOutputs'>\n",
      "<class 'mediapipe.python.solution_base.SolutionOutputs'>\n",
      "<class 'mediapipe.python.solution_base.SolutionOutputs'>\n",
      "<class 'mediapipe.python.solution_base.SolutionOutputs'>\n",
      "<class 'mediapipe.python.solution_base.SolutionOutputs'>\n",
      "<class 'mediapipe.python.solution_base.SolutionOutputs'>\n"
     ]
    }
   ],
   "source": [
    "cap = cv2.VideoCapture(0)\n",
    "# Set mediapipe model \n",
    "with mp_holistic.Holistic(min_detection_confidence=0.5, min_tracking_confidence=0.5) as holistic:\n",
    "    while cap.isOpened():\n",
    "\n",
    "        # Read feed\n",
    "        ret, frame = cap.read()\n",
    "\n",
    "        # Make detections\n",
    "        image, results = mediapipe_detection(frame, holistic)\n",
    "        print(results)\n",
    "        \n",
    "        # Draw landmarks\n",
    "        draw_styled_landmarks(image, results)\n",
    "\n",
    "        # Show to screen\n",
    "        cv2.imshow('OpenCV Feed', image)\n",
    "\n",
    "        # Break gracefully\n",
    "        if cv2.waitKey(10) & 0xFF == ord('q'):\n",
    "            break\n",
    "    cap.release()\n",
    "    cv2.destroyAllWindows()"
   ]
  },
  {
   "cell_type": "markdown",
   "metadata": {},
   "source": [
    "# 3. Extract Keypoint Values"
   ]
  },
  {
   "cell_type": "code",
   "execution_count": 8,
   "metadata": {},
   "outputs": [],
   "source": [
    "pose = []\n",
    "for res in results.pose_landmarks.landmark:\n",
    "    test = np.array([res.x, res.y, res.z, res.visibility])\n",
    "    pose.append(test)"
   ]
  },
  {
   "cell_type": "code",
   "execution_count": 9,
   "metadata": {},
   "outputs": [],
   "source": [
    "pose = np.array([[res.x, res.y, res.z, res.visibility] for res in results.pose_landmarks.landmark]).flatten() if results.pose_landmarks else np.zeros(132)\n",
    "face = np.array([[res.x, res.y, res.z] for res in results.face_landmarks.landmark]).flatten() if results.face_landmarks else np.zeros(1404)\n",
    "lh = np.array([[res.x, res.y, res.z] for res in results.left_hand_landmarks.landmark]).flatten() if results.left_hand_landmarks else np.zeros(21*3)\n",
    "rh = np.array([[res.x, res.y, res.z] for res in results.right_hand_landmarks.landmark]).flatten() if results.right_hand_landmarks else np.zeros(21*3)"
   ]
  },
  {
   "cell_type": "code",
   "execution_count": 10,
   "metadata": {},
   "outputs": [
    {
     "ename": "IndentationError",
     "evalue": "unexpected indent (1373052555.py, line 2)",
     "output_type": "error",
     "traceback": [
      "\u001b[1;36m  Input \u001b[1;32mIn [10]\u001b[1;36m\u001b[0m\n\u001b[1;33m    if results.face_landmarks\u001b[0m\n\u001b[1;37m    ^\u001b[0m\n\u001b[1;31mIndentationError\u001b[0m\u001b[1;31m:\u001b[0m unexpected indent\n"
     ]
    }
   ],
   "source": [
    "face = np.array([[res.x, res.y, res.z] for res in results.face_landmarks.landmark]).flatten() \n",
    "    if results.face_landmarks \n",
    "    else np.zeros(1404)\n"
   ]
  },
  {
   "cell_type": "code",
   "execution_count": 11,
   "metadata": {},
   "outputs": [],
   "source": [
    "def extract_keypoints(results):\n",
    "    pose = np.array([[res.x, res.y, res.z, res.visibility] for res in results.pose_landmarks.landmark]).flatten() if results.pose_landmarks else np.zeros(33*4)\n",
    "    face = np.array([[res.x, res.y, res.z] for res in results.face_landmarks.landmark]).flatten() if results.face_landmarks else np.zeros(468*3)\n",
    "    lh = np.array([[res.x, res.y, res.z] for res in results.left_hand_landmarks.landmark]).flatten() if results.left_hand_landmarks else np.zeros(21*3)\n",
    "    rh = np.array([[res.x, res.y, res.z] for res in results.right_hand_landmarks.landmark]).flatten() if results.right_hand_landmarks else np.zeros(21*3)\n",
    "    return np.concatenate([pose, face, lh, rh])"
   ]
  },
  {
   "cell_type": "code",
   "execution_count": 12,
   "metadata": {},
   "outputs": [],
   "source": [
    "result_test = extract_keypoints(results)"
   ]
  },
  {
   "cell_type": "code",
   "execution_count": 13,
   "metadata": {},
   "outputs": [
    {
     "data": {
      "text/plain": [
       "array([ 0.76491129,  0.71631539, -2.26719069, ...,  0.        ,\n",
       "        0.        ,  0.        ])"
      ]
     },
     "execution_count": 13,
     "metadata": {},
     "output_type": "execute_result"
    }
   ],
   "source": [
    "result_test"
   ]
  },
  {
   "cell_type": "code",
   "execution_count": 14,
   "metadata": {},
   "outputs": [],
   "source": [
    "np.save('0', result_test)"
   ]
  },
  {
   "cell_type": "code",
   "execution_count": 15,
   "metadata": {},
   "outputs": [
    {
     "data": {
      "text/plain": [
       "array([ 0.76491129,  0.71631539, -2.26719069, ...,  0.        ,\n",
       "        0.        ,  0.        ])"
      ]
     },
     "execution_count": 15,
     "metadata": {},
     "output_type": "execute_result"
    }
   ],
   "source": [
    "np.load('0.npy')"
   ]
  },
  {
   "cell_type": "markdown",
   "metadata": {},
   "source": [
    "# 4. Setup Folders for Collection"
   ]
  },
  {
   "cell_type": "code",
   "execution_count": 16,
   "metadata": {},
   "outputs": [],
   "source": [
    "# Path for exported data, numpy arrays\n",
    "DATA_PATH = os.path.join('MP_Data2') \n",
    "\n",
    "# Actions that we try to detect\n",
    "actions = np.array(['high', 'low'])\n",
    "\n",
    "# Thirty videos worth of data\n",
    "no_sequences = 45\n",
    "\n",
    "# Videos are going to be 30 frames in length\n",
    "sequence_length = 30\n",
    "\n",
    "# Folder start\n",
    "start_folder = 0"
   ]
  },
  {
   "cell_type": "code",
   "execution_count": null,
   "metadata": {},
   "outputs": [],
   "source": [
    "# hello\n",
    "## 0\n",
    "## 1\n",
    "## 2\n",
    "## ...\n",
    "## 29\n",
    "# thanks\n",
    "\n",
    "# I love you"
   ]
  },
  {
   "cell_type": "code",
   "execution_count": 17,
   "metadata": {},
   "outputs": [],
   "source": [
    "for action in actions: \n",
    "    for sequence in range(no_sequences):\n",
    "        try: \n",
    "            os.makedirs(os.path.join(DATA_PATH, action, str(sequence)))\n",
    "        except:\n",
    "            pass"
   ]
  },
  {
   "cell_type": "markdown",
   "metadata": {},
   "source": [
    "# 5. Collect Keypoint Values for Training and Testing"
   ]
  },
  {
   "cell_type": "code",
   "execution_count": null,
   "metadata": {
    "scrolled": true
   },
   "outputs": [],
   "source": [
    "cap = cv2.VideoCapture(r\"C:\\\\Users\\\\91914\\\\Downloads\\\\mvi-9654-copy_f8ABDIGK.mp4\")\n",
    "# Set mediapipe model \n",
    "with mp_holistic.Holistic(min_detection_confidence=0.5, min_tracking_confidence=0.5) as holistic:\n",
    "    \n",
    "    # NEW LOOP\n",
    "    # Loop through actions\n",
    "    for action in actions:\n",
    "        # Loop through sequences aka videos\n",
    "        for sequence in range(start_folder, start_folder+no_sequences):\n",
    "            # Loop through video length aka sequence length\n",
    "            for frame_num in range(sequence_length):\n",
    "\n",
    "                # Read feed\n",
    "                ret, frame = cap.read()\n",
    "\n",
    "                # Make detections\n",
    "                image, results = mediapipe_detection(frame, holistic)\n",
    "#                 print(results)\n",
    "\n",
    "                # Draw landmarks\n",
    "                draw_styled_landmarks(image, results)\n",
    "                \n",
    "                # NEW Apply wait logic\n",
    "                if frame_num == 0: \n",
    "                    cv2.putText(image, 'STARTING COLLECTION', (120,200), \n",
    "                               cv2.FONT_HERSHEY_SIMPLEX, 1, (0,255, 0), 4, cv2.LINE_AA)\n",
    "                    cv2.putText(image, 'Collecting frames for {} Video Number {}'.format(action, sequence), (15,12), \n",
    "                               cv2.FONT_HERSHEY_SIMPLEX, 0.5, (0, 0, 255), 1, cv2.LINE_AA)\n",
    "                    # Show to screen\n",
    "                    cv2.imshow('OpenCV Feed', image)\n",
    "                    cv2.waitKey(2000)\n",
    "                else: \n",
    "                    cv2.putText(image, 'Collecting frames for {} Video Number {}'.format(action, sequence), (15,12), \n",
    "                               cv2.FONT_HERSHEY_SIMPLEX, 0.5, (0, 0, 255), 1, cv2.LINE_AA)\n",
    "                    # Show to screen\n",
    "                    cv2.imshow('OpenCV Feed', image)\n",
    "                \n",
    "                # NEW Export keypoints\n",
    "                keypoints = extract_keypoints(results)\n",
    "                npy_path = os.path.join(DATA_PATH, action, str(sequence), str(frame_num))\n",
    "                np.save(npy_path, keypoints)\n",
    "\n",
    "                # Break gracefully\n",
    "                if cv2.waitKey(10) & 0xFF == ord('q'):\n",
    "                    break\n",
    "                    \n",
    "    cap.release()\n",
    "    cv2.destroyAllWindows()"
   ]
  },
  {
   "cell_type": "code",
   "execution_count": null,
   "metadata": {},
   "outputs": [],
   "source": [
    "cap.release()\n",
    "cv2.destroyAllWindows()"
   ]
  },
  {
   "cell_type": "markdown",
   "metadata": {},
   "source": [
    "# 6. Preprocess Data and Create Labels and Features"
   ]
  },
  {
   "cell_type": "code",
   "execution_count": 18,
   "metadata": {},
   "outputs": [],
   "source": [
    "from sklearn.model_selection import train_test_split\n",
    "from tensorflow.keras.utils import to_categorical"
   ]
  },
  {
   "cell_type": "code",
   "execution_count": 19,
   "metadata": {},
   "outputs": [],
   "source": [
    "label_map = {label:num for num, label in enumerate(actions)}"
   ]
  },
  {
   "cell_type": "code",
   "execution_count": 20,
   "metadata": {},
   "outputs": [
    {
     "data": {
      "text/plain": [
       "{'high': 0, 'low': 1}"
      ]
     },
     "execution_count": 20,
     "metadata": {},
     "output_type": "execute_result"
    }
   ],
   "source": [
    "label_map"
   ]
  },
  {
   "cell_type": "code",
   "execution_count": 21,
   "metadata": {},
   "outputs": [],
   "source": [
    "sequences, labels = [], []\n",
    "for action in actions:\n",
    "    for sequence in range(no_sequences):\n",
    "        window = []\n",
    "        for frame_num in range(sequence_length):\n",
    "            res = np.load(os.path.join(DATA_PATH, action, str(sequence), \"{}.npy\".format(frame_num)))\n",
    "            window.append(res)\n",
    "        sequences.append(window)\n",
    "        labels.append(label_map[action])"
   ]
  },
  {
   "cell_type": "code",
   "execution_count": 22,
   "metadata": {},
   "outputs": [
    {
     "data": {
      "text/plain": [
       "(90, 30, 1662)"
      ]
     },
     "execution_count": 22,
     "metadata": {},
     "output_type": "execute_result"
    }
   ],
   "source": [
    "np.array(sequences).shape"
   ]
  },
  {
   "cell_type": "code",
   "execution_count": 23,
   "metadata": {},
   "outputs": [
    {
     "data": {
      "text/plain": [
       "(90,)"
      ]
     },
     "execution_count": 23,
     "metadata": {},
     "output_type": "execute_result"
    }
   ],
   "source": [
    "np.array(labels).shape"
   ]
  },
  {
   "cell_type": "code",
   "execution_count": 24,
   "metadata": {},
   "outputs": [],
   "source": [
    "X = np.array(sequences)"
   ]
  },
  {
   "cell_type": "code",
   "execution_count": 25,
   "metadata": {},
   "outputs": [
    {
     "data": {
      "text/plain": [
       "(90, 30, 1662)"
      ]
     },
     "execution_count": 25,
     "metadata": {},
     "output_type": "execute_result"
    }
   ],
   "source": [
    "X.shape"
   ]
  },
  {
   "cell_type": "code",
   "execution_count": 26,
   "metadata": {},
   "outputs": [],
   "source": [
    "y = to_categorical(labels).astype(int)"
   ]
  },
  {
   "cell_type": "code",
   "execution_count": 27,
   "metadata": {},
   "outputs": [
    {
     "data": {
      "text/plain": [
       "array([[1, 0],\n",
       "       [1, 0],\n",
       "       [1, 0],\n",
       "       [1, 0],\n",
       "       [1, 0],\n",
       "       [1, 0],\n",
       "       [1, 0],\n",
       "       [1, 0],\n",
       "       [1, 0],\n",
       "       [1, 0],\n",
       "       [1, 0],\n",
       "       [1, 0],\n",
       "       [1, 0],\n",
       "       [1, 0],\n",
       "       [1, 0],\n",
       "       [1, 0],\n",
       "       [1, 0],\n",
       "       [1, 0],\n",
       "       [1, 0],\n",
       "       [1, 0],\n",
       "       [1, 0],\n",
       "       [1, 0],\n",
       "       [1, 0],\n",
       "       [1, 0],\n",
       "       [1, 0],\n",
       "       [1, 0],\n",
       "       [1, 0],\n",
       "       [1, 0],\n",
       "       [1, 0],\n",
       "       [1, 0],\n",
       "       [1, 0],\n",
       "       [1, 0],\n",
       "       [1, 0],\n",
       "       [1, 0],\n",
       "       [1, 0],\n",
       "       [1, 0],\n",
       "       [1, 0],\n",
       "       [1, 0],\n",
       "       [1, 0],\n",
       "       [1, 0],\n",
       "       [1, 0],\n",
       "       [1, 0],\n",
       "       [1, 0],\n",
       "       [1, 0],\n",
       "       [1, 0],\n",
       "       [0, 1],\n",
       "       [0, 1],\n",
       "       [0, 1],\n",
       "       [0, 1],\n",
       "       [0, 1],\n",
       "       [0, 1],\n",
       "       [0, 1],\n",
       "       [0, 1],\n",
       "       [0, 1],\n",
       "       [0, 1],\n",
       "       [0, 1],\n",
       "       [0, 1],\n",
       "       [0, 1],\n",
       "       [0, 1],\n",
       "       [0, 1],\n",
       "       [0, 1],\n",
       "       [0, 1],\n",
       "       [0, 1],\n",
       "       [0, 1],\n",
       "       [0, 1],\n",
       "       [0, 1],\n",
       "       [0, 1],\n",
       "       [0, 1],\n",
       "       [0, 1],\n",
       "       [0, 1],\n",
       "       [0, 1],\n",
       "       [0, 1],\n",
       "       [0, 1],\n",
       "       [0, 1],\n",
       "       [0, 1],\n",
       "       [0, 1],\n",
       "       [0, 1],\n",
       "       [0, 1],\n",
       "       [0, 1],\n",
       "       [0, 1],\n",
       "       [0, 1],\n",
       "       [0, 1],\n",
       "       [0, 1],\n",
       "       [0, 1],\n",
       "       [0, 1],\n",
       "       [0, 1],\n",
       "       [0, 1],\n",
       "       [0, 1],\n",
       "       [0, 1],\n",
       "       [0, 1]])"
      ]
     },
     "execution_count": 27,
     "metadata": {},
     "output_type": "execute_result"
    }
   ],
   "source": [
    "y"
   ]
  },
  {
   "cell_type": "code",
   "execution_count": 28,
   "metadata": {},
   "outputs": [],
   "source": [
    "X_train, X_test, y_train, y_test = train_test_split(X, y, test_size=0.05)"
   ]
  },
  {
   "cell_type": "code",
   "execution_count": 29,
   "metadata": {},
   "outputs": [
    {
     "data": {
      "text/plain": [
       "(5, 2)"
      ]
     },
     "execution_count": 29,
     "metadata": {},
     "output_type": "execute_result"
    }
   ],
   "source": [
    "y_test.shape"
   ]
  },
  {
   "cell_type": "markdown",
   "metadata": {},
   "source": [
    "# 7. Build and Train LSTM Neural Network"
   ]
  },
  {
   "cell_type": "code",
   "execution_count": 69,
   "metadata": {},
   "outputs": [],
   "source": [
    "from tensorflow.keras.models import Sequential\n",
    "from tensorflow.keras.layers import LSTM, Dense\n",
    "from tensorflow.keras.callbacks import TensorBoard"
   ]
  },
  {
   "cell_type": "code",
   "execution_count": 70,
   "metadata": {},
   "outputs": [],
   "source": [
    "log_dir = os.path.join('Logs1')\n",
    "tb_callback = TensorBoard(log_dir=log_dir)"
   ]
  },
  {
   "cell_type": "code",
   "execution_count": 71,
   "metadata": {},
   "outputs": [],
   "source": [
    "model = Sequential()\n",
    "model.add(LSTM(64, return_sequences=True, activation='relu', input_shape=(30,1662)))\n",
    "model.add(LSTM(128, return_sequences=True, activation='relu'))\n",
    "model.add(LSTM(64, return_sequences=False, activation='relu'))\n",
    "model.add(Dense(64, activation='relu'))\n",
    "model.add(Dense(32, activation='relu'))\n",
    "model.add(Dense(actions.shape[0], activation='softmax'))"
   ]
  },
  {
   "cell_type": "code",
   "execution_count": 72,
   "metadata": {},
   "outputs": [],
   "source": [
    "res = [.7, 0.2, 0.1]"
   ]
  },
  {
   "cell_type": "code",
   "execution_count": 73,
   "metadata": {},
   "outputs": [
    {
     "data": {
      "text/plain": [
       "'high'"
      ]
     },
     "execution_count": 73,
     "metadata": {},
     "output_type": "execute_result"
    }
   ],
   "source": [
    "actions[np.argmax(res)]"
   ]
  },
  {
   "cell_type": "code",
   "execution_count": 74,
   "metadata": {},
   "outputs": [],
   "source": [
    "model.compile(optimizer='Adam', loss='categorical_crossentropy', metrics=['categorical_accuracy'])"
   ]
  },
  {
   "cell_type": "code",
   "execution_count": 75,
   "metadata": {
    "scrolled": true
   },
   "outputs": [
    {
     "name": "stdout",
     "output_type": "stream",
     "text": [
      "Epoch 1/100\n",
      "3/3 [==============================] - 4s 67ms/step - loss: 1.2804 - categorical_accuracy: 0.4000\n",
      "Epoch 2/100\n",
      "3/3 [==============================] - 0s 79ms/step - loss: 1.2076 - categorical_accuracy: 0.4353\n",
      "Epoch 3/100\n",
      "3/3 [==============================] - 0s 71ms/step - loss: 9.2274 - categorical_accuracy: 0.5529\n",
      "Epoch 4/100\n",
      "3/3 [==============================] - 0s 80ms/step - loss: 2.5207 - categorical_accuracy: 0.4941\n",
      "Epoch 5/100\n",
      "3/3 [==============================] - 0s 81ms/step - loss: 1.6811 - categorical_accuracy: 0.5176\n",
      "Epoch 6/100\n",
      "3/3 [==============================] - 0s 78ms/step - loss: 0.9935 - categorical_accuracy: 0.4588\n",
      "Epoch 7/100\n",
      "3/3 [==============================] - 0s 80ms/step - loss: 1.0661 - categorical_accuracy: 0.4941\n",
      "Epoch 8/100\n",
      "3/3 [==============================] - 0s 81ms/step - loss: 1.0307 - categorical_accuracy: 0.4000\n",
      "Epoch 9/100\n",
      "3/3 [==============================] - 0s 73ms/step - loss: 0.7795 - categorical_accuracy: 0.5176\n",
      "Epoch 10/100\n",
      "3/3 [==============================] - 0s 83ms/step - loss: 0.6916 - categorical_accuracy: 0.5176\n",
      "Epoch 11/100\n",
      "3/3 [==============================] - 0s 77ms/step - loss: 0.6884 - categorical_accuracy: 0.5412\n",
      "Epoch 12/100\n",
      "3/3 [==============================] - 0s 80ms/step - loss: 0.7928 - categorical_accuracy: 0.5059\n",
      "Epoch 13/100\n",
      "3/3 [==============================] - 0s 86ms/step - loss: 0.6547 - categorical_accuracy: 0.5647\n",
      "Epoch 14/100\n",
      "3/3 [==============================] - 0s 87ms/step - loss: 0.6468 - categorical_accuracy: 0.5882\n",
      "Epoch 15/100\n",
      "3/3 [==============================] - 0s 81ms/step - loss: 0.5846 - categorical_accuracy: 0.7647\n",
      "Epoch 16/100\n",
      "3/3 [==============================] - 0s 78ms/step - loss: 0.6237 - categorical_accuracy: 0.6588\n",
      "Epoch 17/100\n",
      "3/3 [==============================] - 0s 77ms/step - loss: 0.7952 - categorical_accuracy: 0.5882\n",
      "Epoch 18/100\n",
      "3/3 [==============================] - 0s 89ms/step - loss: 0.5671 - categorical_accuracy: 0.6824\n",
      "Epoch 19/100\n",
      "3/3 [==============================] - 0s 84ms/step - loss: 0.5159 - categorical_accuracy: 0.7176\n",
      "Epoch 20/100\n",
      "3/3 [==============================] - 0s 88ms/step - loss: 0.8653 - categorical_accuracy: 0.4941\n",
      "Epoch 21/100\n",
      "3/3 [==============================] - 0s 105ms/step - loss: 0.7453 - categorical_accuracy: 0.4941\n",
      "Epoch 22/100\n",
      "3/3 [==============================] - 0s 90ms/step - loss: 0.6243 - categorical_accuracy: 0.6941\n",
      "Epoch 23/100\n",
      "3/3 [==============================] - 0s 87ms/step - loss: 0.5944 - categorical_accuracy: 0.6706\n",
      "Epoch 24/100\n",
      "3/3 [==============================] - 0s 86ms/step - loss: 0.5466 - categorical_accuracy: 0.8118\n",
      "Epoch 25/100\n",
      "3/3 [==============================] - 0s 70ms/step - loss: 0.5546 - categorical_accuracy: 0.7412\n",
      "Epoch 26/100\n",
      "3/3 [==============================] - 0s 87ms/step - loss: 0.4284 - categorical_accuracy: 0.8000\n",
      "Epoch 27/100\n",
      "3/3 [==============================] - 0s 85ms/step - loss: 0.3926 - categorical_accuracy: 0.8706\n",
      "Epoch 28/100\n",
      "3/3 [==============================] - 0s 76ms/step - loss: 0.4693 - categorical_accuracy: 0.7765\n",
      "Epoch 29/100\n",
      "3/3 [==============================] - 0s 83ms/step - loss: 0.5145 - categorical_accuracy: 0.7412\n",
      "Epoch 30/100\n",
      "3/3 [==============================] - 0s 88ms/step - loss: 0.5808 - categorical_accuracy: 0.6941\n",
      "Epoch 31/100\n",
      "3/3 [==============================] - 0s 87ms/step - loss: 0.5466 - categorical_accuracy: 0.7765\n",
      "Epoch 32/100\n",
      "3/3 [==============================] - 0s 91ms/step - loss: 0.4631 - categorical_accuracy: 0.8824\n",
      "Epoch 33/100\n",
      "3/3 [==============================] - 0s 74ms/step - loss: 0.4837 - categorical_accuracy: 0.8235\n",
      "Epoch 34/100\n",
      "3/3 [==============================] - 0s 71ms/step - loss: 0.3314 - categorical_accuracy: 0.8941\n",
      "Epoch 35/100\n",
      "3/3 [==============================] - 0s 77ms/step - loss: 0.3824 - categorical_accuracy: 0.8353\n",
      "Epoch 36/100\n",
      "3/3 [==============================] - 0s 78ms/step - loss: 0.3811 - categorical_accuracy: 0.8471\n",
      "Epoch 37/100\n",
      "3/3 [==============================] - 0s 83ms/step - loss: 0.2649 - categorical_accuracy: 0.9059\n",
      "Epoch 38/100\n",
      "3/3 [==============================] - 0s 80ms/step - loss: 0.2268 - categorical_accuracy: 0.9529\n",
      "Epoch 39/100\n",
      "3/3 [==============================] - 0s 74ms/step - loss: 0.3054 - categorical_accuracy: 0.9176\n",
      "Epoch 40/100\n",
      "3/3 [==============================] - 0s 85ms/step - loss: 0.9195 - categorical_accuracy: 0.6588\n",
      "Epoch 41/100\n",
      "3/3 [==============================] - 0s 83ms/step - loss: 0.3025 - categorical_accuracy: 0.8235\n",
      "Epoch 42/100\n",
      "3/3 [==============================] - 0s 71ms/step - loss: 0.4538 - categorical_accuracy: 0.7765\n",
      "Epoch 43/100\n",
      "3/3 [==============================] - 0s 81ms/step - loss: 0.3674 - categorical_accuracy: 0.8824\n",
      "Epoch 44/100\n",
      "3/3 [==============================] - 0s 78ms/step - loss: 0.2737 - categorical_accuracy: 0.8941\n",
      "Epoch 45/100\n",
      "3/3 [==============================] - 0s 72ms/step - loss: 0.3108 - categorical_accuracy: 0.8824\n",
      "Epoch 46/100\n",
      "3/3 [==============================] - 0s 81ms/step - loss: 0.2773 - categorical_accuracy: 0.9059\n",
      "Epoch 47/100\n",
      "3/3 [==============================] - 0s 77ms/step - loss: 0.2602 - categorical_accuracy: 0.8471\n",
      "Epoch 48/100\n",
      "3/3 [==============================] - 0s 81ms/step - loss: 0.2708 - categorical_accuracy: 0.9176\n",
      "Epoch 49/100\n",
      "3/3 [==============================] - 0s 90ms/step - loss: 0.2180 - categorical_accuracy: 0.9294\n",
      "Epoch 50/100\n",
      "3/3 [==============================] - 0s 98ms/step - loss: 0.1979 - categorical_accuracy: 0.9765\n",
      "Epoch 51/100\n",
      "3/3 [==============================] - 0s 83ms/step - loss: 0.1725 - categorical_accuracy: 0.9412\n",
      "Epoch 52/100\n",
      "3/3 [==============================] - 0s 73ms/step - loss: 0.1882 - categorical_accuracy: 0.9294\n",
      "Epoch 53/100\n",
      "3/3 [==============================] - 0s 95ms/step - loss: 0.4953 - categorical_accuracy: 0.8471\n",
      "Epoch 54/100\n",
      "3/3 [==============================] - 0s 86ms/step - loss: 0.3128 - categorical_accuracy: 0.8824\n",
      "Epoch 55/100\n",
      "3/3 [==============================] - 0s 79ms/step - loss: 0.3083 - categorical_accuracy: 0.8588\n",
      "Epoch 56/100\n",
      "3/3 [==============================] - 0s 81ms/step - loss: 0.2660 - categorical_accuracy: 0.9059\n",
      "Epoch 57/100\n",
      "3/3 [==============================] - 0s 78ms/step - loss: 0.2612 - categorical_accuracy: 0.8706\n",
      "Epoch 58/100\n",
      "3/3 [==============================] - 0s 78ms/step - loss: 0.1629 - categorical_accuracy: 0.9647\n",
      "Epoch 59/100\n",
      "3/3 [==============================] - 0s 80ms/step - loss: 0.1259 - categorical_accuracy: 0.9765\n",
      "Epoch 60/100\n",
      "3/3 [==============================] - 0s 73ms/step - loss: 0.2288 - categorical_accuracy: 0.9412\n",
      "Epoch 61/100\n",
      "3/3 [==============================] - 0s 96ms/step - loss: 0.2399 - categorical_accuracy: 0.8941\n",
      "Epoch 62/100\n",
      "3/3 [==============================] - 0s 75ms/step - loss: 0.2251 - categorical_accuracy: 0.9176\n",
      "Epoch 63/100\n",
      "3/3 [==============================] - 0s 71ms/step - loss: 0.1240 - categorical_accuracy: 0.9529\n",
      "Epoch 64/100\n",
      "3/3 [==============================] - 0s 74ms/step - loss: 0.1228 - categorical_accuracy: 0.9529\n",
      "Epoch 65/100\n",
      "3/3 [==============================] - 0s 76ms/step - loss: 0.1498 - categorical_accuracy: 0.9529\n",
      "Epoch 66/100\n",
      "3/3 [==============================] - 0s 87ms/step - loss: 0.0943 - categorical_accuracy: 0.9765\n",
      "Epoch 67/100\n",
      "3/3 [==============================] - 0s 89ms/step - loss: 0.1600 - categorical_accuracy: 0.9294\n",
      "Epoch 68/100\n",
      "3/3 [==============================] - 0s 87ms/step - loss: 0.1504 - categorical_accuracy: 0.9529\n",
      "Epoch 69/100\n",
      "3/3 [==============================] - 0s 81ms/step - loss: 0.0630 - categorical_accuracy: 0.9765\n",
      "Epoch 70/100\n",
      "3/3 [==============================] - 0s 78ms/step - loss: 0.1637 - categorical_accuracy: 0.9176\n",
      "Epoch 71/100\n",
      "3/3 [==============================] - 0s 77ms/step - loss: 0.1515 - categorical_accuracy: 0.9294\n",
      "Epoch 72/100\n",
      "3/3 [==============================] - 0s 87ms/step - loss: 0.0542 - categorical_accuracy: 0.9882\n",
      "Epoch 73/100\n",
      "3/3 [==============================] - 0s 86ms/step - loss: 0.0751 - categorical_accuracy: 0.9882\n",
      "Epoch 74/100\n"
     ]
    },
    {
     "name": "stdout",
     "output_type": "stream",
     "text": [
      "3/3 [==============================] - 0s 84ms/step - loss: 0.0530 - categorical_accuracy: 0.9765\n",
      "Epoch 75/100\n",
      "3/3 [==============================] - 0s 91ms/step - loss: 0.0580 - categorical_accuracy: 0.9765\n",
      "Epoch 76/100\n",
      "3/3 [==============================] - 0s 80ms/step - loss: 0.0493 - categorical_accuracy: 0.9765\n",
      "Epoch 77/100\n",
      "3/3 [==============================] - 0s 79ms/step - loss: 0.0653 - categorical_accuracy: 0.9647\n",
      "Epoch 78/100\n",
      "3/3 [==============================] - 0s 93ms/step - loss: 1.9817 - categorical_accuracy: 0.5765\n",
      "Epoch 79/100\n",
      "3/3 [==============================] - 0s 78ms/step - loss: 0.4734 - categorical_accuracy: 0.7529\n",
      "Epoch 80/100\n",
      "3/3 [==============================] - 0s 72ms/step - loss: 0.6503 - categorical_accuracy: 0.4941\n",
      "Epoch 81/100\n",
      "3/3 [==============================] - 0s 73ms/step - loss: 0.6270 - categorical_accuracy: 0.4941\n",
      "Epoch 82/100\n",
      "3/3 [==============================] - 0s 78ms/step - loss: 0.5949 - categorical_accuracy: 0.4941\n",
      "Epoch 83/100\n",
      "3/3 [==============================] - 0s 96ms/step - loss: 0.5522 - categorical_accuracy: 0.4941\n",
      "Epoch 84/100\n",
      "3/3 [==============================] - 0s 76ms/step - loss: 0.4801 - categorical_accuracy: 0.5882\n",
      "Epoch 85/100\n",
      "3/3 [==============================] - 0s 84ms/step - loss: 0.4160 - categorical_accuracy: 0.7882\n",
      "Epoch 86/100\n",
      "3/3 [==============================] - 0s 77ms/step - loss: 0.3503 - categorical_accuracy: 0.9412\n",
      "Epoch 87/100\n",
      "3/3 [==============================] - 0s 96ms/step - loss: 0.2952 - categorical_accuracy: 0.9765\n",
      "Epoch 88/100\n",
      "3/3 [==============================] - 0s 91ms/step - loss: 0.2176 - categorical_accuracy: 0.9529\n",
      "Epoch 89/100\n",
      "3/3 [==============================] - 0s 95ms/step - loss: 0.1666 - categorical_accuracy: 0.9529\n",
      "Epoch 90/100\n",
      "3/3 [==============================] - 0s 94ms/step - loss: 1.2597 - categorical_accuracy: 0.7176\n",
      "Epoch 91/100\n",
      "3/3 [==============================] - 0s 83ms/step - loss: 0.6798 - categorical_accuracy: 0.6353\n",
      "Epoch 92/100\n",
      "3/3 [==============================] - 0s 71ms/step - loss: 0.3918 - categorical_accuracy: 0.9294\n",
      "Epoch 93/100\n",
      "3/3 [==============================] - 0s 77ms/step - loss: 0.3735 - categorical_accuracy: 0.8353\n",
      "Epoch 94/100\n",
      "3/3 [==============================] - 0s 79ms/step - loss: 0.3607 - categorical_accuracy: 0.7412\n",
      "Epoch 95/100\n",
      "3/3 [==============================] - 0s 74ms/step - loss: 0.2410 - categorical_accuracy: 0.9882\n",
      "Epoch 96/100\n",
      "3/3 [==============================] - 0s 77ms/step - loss: 0.2120 - categorical_accuracy: 0.9059\n",
      "Epoch 97/100\n",
      "3/3 [==============================] - 0s 73ms/step - loss: 0.1285 - categorical_accuracy: 0.9765\n",
      "Epoch 98/100\n",
      "3/3 [==============================] - 0s 71ms/step - loss: 0.0978 - categorical_accuracy: 0.9765\n",
      "Epoch 99/100\n",
      "3/3 [==============================] - 0s 72ms/step - loss: 0.2479 - categorical_accuracy: 0.9765\n",
      "Epoch 100/100\n",
      "3/3 [==============================] - 0s 71ms/step - loss: 0.1009 - categorical_accuracy: 0.9765\n"
     ]
    },
    {
     "data": {
      "text/plain": [
       "<keras.callbacks.History at 0x2040e715930>"
      ]
     },
     "execution_count": 75,
     "metadata": {},
     "output_type": "execute_result"
    }
   ],
   "source": [
    "model.fit(X_train, y_train, epochs=100, callbacks=[tb_callback])"
   ]
  },
  {
   "cell_type": "code",
   "execution_count": 37,
   "metadata": {},
   "outputs": [
    {
     "name": "stdout",
     "output_type": "stream",
     "text": [
      "Model: \"sequential\"\n",
      "_________________________________________________________________\n",
      " Layer (type)                Output Shape              Param #   \n",
      "=================================================================\n",
      " lstm (LSTM)                 (None, 30, 64)            442112    \n",
      "                                                                 \n",
      " lstm_1 (LSTM)               (None, 30, 128)           98816     \n",
      "                                                                 \n",
      " lstm_2 (LSTM)               (None, 64)                49408     \n",
      "                                                                 \n",
      " dense (Dense)               (None, 64)                4160      \n",
      "                                                                 \n",
      " dense_1 (Dense)             (None, 32)                2080      \n",
      "                                                                 \n",
      " dense_2 (Dense)             (None, 2)                 66        \n",
      "                                                                 \n",
      "=================================================================\n",
      "Total params: 596,642\n",
      "Trainable params: 596,642\n",
      "Non-trainable params: 0\n",
      "_________________________________________________________________\n"
     ]
    }
   ],
   "source": [
    "model.summary()"
   ]
  },
  {
   "cell_type": "markdown",
   "metadata": {},
   "source": [
    "# 8. Make Predictions"
   ]
  },
  {
   "cell_type": "code",
   "execution_count": 76,
   "metadata": {},
   "outputs": [],
   "source": [
    "res = model.predict(X_test)"
   ]
  },
  {
   "cell_type": "code",
   "execution_count": 77,
   "metadata": {},
   "outputs": [
    {
     "data": {
      "text/plain": [
       "'low'"
      ]
     },
     "execution_count": 77,
     "metadata": {},
     "output_type": "execute_result"
    }
   ],
   "source": [
    "actions[np.argmax(res[2])]"
   ]
  },
  {
   "cell_type": "code",
   "execution_count": 78,
   "metadata": {},
   "outputs": [
    {
     "data": {
      "text/plain": [
       "'low'"
      ]
     },
     "execution_count": 78,
     "metadata": {},
     "output_type": "execute_result"
    }
   ],
   "source": [
    "actions[np.argmax(y_test[2])]"
   ]
  },
  {
   "cell_type": "markdown",
   "metadata": {},
   "source": [
    "# 9. Save Weights"
   ]
  },
  {
   "cell_type": "code",
   "execution_count": 48,
   "metadata": {},
   "outputs": [],
   "source": [
    "model.save('action.h5')"
   ]
  },
  {
   "cell_type": "code",
   "execution_count": 49,
   "metadata": {},
   "outputs": [],
   "source": [
    "del model"
   ]
  },
  {
   "cell_type": "code",
   "execution_count": 52,
   "metadata": {},
   "outputs": [],
   "source": [
    "model.load_weights('action.h5')"
   ]
  },
  {
   "cell_type": "markdown",
   "metadata": {},
   "source": [
    "# 10. Evaluation using Confusion Matrix and Accuracy"
   ]
  },
  {
   "cell_type": "code",
   "execution_count": 79,
   "metadata": {},
   "outputs": [],
   "source": [
    "from sklearn.metrics import multilabel_confusion_matrix, accuracy_score"
   ]
  },
  {
   "cell_type": "code",
   "execution_count": 80,
   "metadata": {},
   "outputs": [],
   "source": [
    "yhat = model.predict(X_test)"
   ]
  },
  {
   "cell_type": "code",
   "execution_count": 81,
   "metadata": {},
   "outputs": [],
   "source": [
    "ytrue = np.argmax(y_test, axis=1).tolist()\n",
    "yhat = np.argmax(yhat, axis=1).tolist()"
   ]
  },
  {
   "cell_type": "code",
   "execution_count": 82,
   "metadata": {},
   "outputs": [
    {
     "data": {
      "text/plain": [
       "array([[[2, 0],\n",
       "        [0, 3]],\n",
       "\n",
       "       [[3, 0],\n",
       "        [0, 2]]], dtype=int64)"
      ]
     },
     "execution_count": 82,
     "metadata": {},
     "output_type": "execute_result"
    }
   ],
   "source": [
    "multilabel_confusion_matrix(ytrue, yhat)"
   ]
  },
  {
   "cell_type": "code",
   "execution_count": 83,
   "metadata": {},
   "outputs": [
    {
     "data": {
      "text/plain": [
       "1.0"
      ]
     },
     "execution_count": 83,
     "metadata": {},
     "output_type": "execute_result"
    }
   ],
   "source": [
    "accuracy_score(ytrue, yhat)"
   ]
  },
  {
   "cell_type": "markdown",
   "metadata": {},
   "source": [
    "# 11. Test in Real Time"
   ]
  },
  {
   "cell_type": "code",
   "execution_count": 84,
   "metadata": {},
   "outputs": [],
   "source": [
    "colors = [(245,117,16), (117,245,16), (16,117,245)]\n",
    "def prob_viz(res, actions, input_frame, colors):\n",
    "    output_frame = input_frame.copy()\n",
    "    for num, prob in enumerate(res):\n",
    "        cv2.rectangle(output_frame, (0,60+num*40), (int(prob*100), 90+num*40), colors[num], -1)\n",
    "        cv2.putText(output_frame, actions[num], (0, 85+num*40), cv2.FONT_HERSHEY_SIMPLEX, 1, (255,255,255), 2, cv2.LINE_AA)\n",
    "        \n",
    "    return output_frame"
   ]
  },
  {
   "cell_type": "code",
   "execution_count": 85,
   "metadata": {},
   "outputs": [
    {
     "ename": "TypeError",
     "evalue": "only size-1 arrays can be converted to Python scalars",
     "output_type": "error",
     "traceback": [
      "\u001b[1;31m---------------------------------------------------------------------------\u001b[0m",
      "\u001b[1;31mTypeError\u001b[0m                                 Traceback (most recent call last)",
      "Input \u001b[1;32mIn [85]\u001b[0m, in \u001b[0;36m<cell line: 2>\u001b[1;34m()\u001b[0m\n\u001b[0;32m      1\u001b[0m plt\u001b[38;5;241m.\u001b[39mfigure(figsize\u001b[38;5;241m=\u001b[39m(\u001b[38;5;241m18\u001b[39m,\u001b[38;5;241m18\u001b[39m))\n\u001b[1;32m----> 2\u001b[0m plt\u001b[38;5;241m.\u001b[39mimshow(\u001b[43mprob_viz\u001b[49m\u001b[43m(\u001b[49m\u001b[43mres\u001b[49m\u001b[43m,\u001b[49m\u001b[43m \u001b[49m\u001b[43mactions\u001b[49m\u001b[43m,\u001b[49m\u001b[43m \u001b[49m\u001b[43mimage\u001b[49m\u001b[43m,\u001b[49m\u001b[43m \u001b[49m\u001b[43mcolors\u001b[49m\u001b[43m)\u001b[49m)\n",
      "Input \u001b[1;32mIn [84]\u001b[0m, in \u001b[0;36mprob_viz\u001b[1;34m(res, actions, input_frame, colors)\u001b[0m\n\u001b[0;32m      3\u001b[0m output_frame \u001b[38;5;241m=\u001b[39m input_frame\u001b[38;5;241m.\u001b[39mcopy()\n\u001b[0;32m      4\u001b[0m \u001b[38;5;28;01mfor\u001b[39;00m num, prob \u001b[38;5;129;01min\u001b[39;00m \u001b[38;5;28menumerate\u001b[39m(res):\n\u001b[1;32m----> 5\u001b[0m     cv2\u001b[38;5;241m.\u001b[39mrectangle(output_frame, (\u001b[38;5;241m0\u001b[39m,\u001b[38;5;241m60\u001b[39m\u001b[38;5;241m+\u001b[39mnum\u001b[38;5;241m*\u001b[39m\u001b[38;5;241m40\u001b[39m), (\u001b[38;5;28;43mint\u001b[39;49m\u001b[43m(\u001b[49m\u001b[43mprob\u001b[49m\u001b[38;5;241;43m*\u001b[39;49m\u001b[38;5;241;43m100\u001b[39;49m\u001b[43m)\u001b[49m, \u001b[38;5;241m90\u001b[39m\u001b[38;5;241m+\u001b[39mnum\u001b[38;5;241m*\u001b[39m\u001b[38;5;241m40\u001b[39m), colors[num], \u001b[38;5;241m-\u001b[39m\u001b[38;5;241m1\u001b[39m)\n\u001b[0;32m      6\u001b[0m     cv2\u001b[38;5;241m.\u001b[39mputText(output_frame, actions[num], (\u001b[38;5;241m0\u001b[39m, \u001b[38;5;241m85\u001b[39m\u001b[38;5;241m+\u001b[39mnum\u001b[38;5;241m*\u001b[39m\u001b[38;5;241m40\u001b[39m), cv2\u001b[38;5;241m.\u001b[39mFONT_HERSHEY_SIMPLEX, \u001b[38;5;241m1\u001b[39m, (\u001b[38;5;241m255\u001b[39m,\u001b[38;5;241m255\u001b[39m,\u001b[38;5;241m255\u001b[39m), \u001b[38;5;241m2\u001b[39m, cv2\u001b[38;5;241m.\u001b[39mLINE_AA)\n\u001b[0;32m      8\u001b[0m \u001b[38;5;28;01mreturn\u001b[39;00m output_frame\n",
      "\u001b[1;31mTypeError\u001b[0m: only size-1 arrays can be converted to Python scalars"
     ]
    },
    {
     "data": {
      "text/plain": [
       "<Figure size 1296x1296 with 0 Axes>"
      ]
     },
     "metadata": {},
     "output_type": "display_data"
    }
   ],
   "source": [
    "plt.figure(figsize=(18,18))\n",
    "plt.imshow(prob_viz(res, actions, image, colors))"
   ]
  },
  {
   "cell_type": "code",
   "execution_count": null,
   "metadata": {},
   "outputs": [],
   "source": [
    "sequence.reverse()"
   ]
  },
  {
   "cell_type": "code",
   "execution_count": null,
   "metadata": {},
   "outputs": [],
   "source": [
    "len(sequence)"
   ]
  },
  {
   "cell_type": "code",
   "execution_count": 86,
   "metadata": {},
   "outputs": [],
   "source": [
    "sequence.append('def')"
   ]
  },
  {
   "cell_type": "code",
   "execution_count": 87,
   "metadata": {},
   "outputs": [],
   "source": [
    "sequence.reverse()"
   ]
  },
  {
   "cell_type": "code",
   "execution_count": 88,
   "metadata": {
    "scrolled": true
   },
   "outputs": [
    {
     "data": {
      "text/plain": [
       "[array([ 0.49410686,  0.57105225, -0.93150151, ...,  0.31159252,\n",
       "         0.56440151, -0.04315888]),\n",
       " array([ 0.49306735,  0.56929868, -0.9201619 , ...,  0.30717465,\n",
       "         0.56315905, -0.0453373 ]),\n",
       " array([ 0.49314934,  0.56923026, -0.93631715, ...,  0.30939609,\n",
       "         0.56857646, -0.04016069]),\n",
       " array([ 0.49174339,  0.56961691, -0.94350147, ...,  0.3054018 ,\n",
       "         0.56451917, -0.04199785]),\n",
       " array([ 0.49049383,  0.56930214, -1.04202044, ...,  0.30754432,\n",
       "         0.56767583, -0.03950076]),\n",
       " array([ 0.49239844,  0.56950212, -0.91028464, ...,  0.31510252,\n",
       "         0.55402404, -0.02683117]),\n",
       " array([ 0.4936339 ,  0.56880152, -0.9380911 , ...,  0.3505882 ,\n",
       "         0.47210181, -0.03930076]),\n",
       " array([ 0.49506807,  0.56695777, -0.95832527, ...,  0.35932642,\n",
       "         0.45640421, -0.01542702]),\n",
       " array([ 0.5165574 ,  0.56829715, -0.85212624, ...,  0.38706264,\n",
       "         0.38889283, -0.0034701 ]),\n",
       " array([ 0.53390926,  0.57004768, -1.09286833, ...,  0.40522331,\n",
       "         0.33849496,  0.03397148]),\n",
       " array([ 0.5579505 ,  0.57546335, -1.27771127, ...,  0.43041328,\n",
       "         0.26972806,  0.03656896]),\n",
       " array([ 0.55899847,  0.57824814, -1.18519998, ...,  0.42974353,\n",
       "         0.23428822,  0.04103207]),\n",
       " array([ 0.56414843,  0.57978123, -1.01468337, ...,  0.42207822,\n",
       "         0.23337635,  0.04659006]),\n",
       " array([ 0.56232089,  0.58078408, -0.80740011, ...,  0.40356123,\n",
       "         0.19482177,  0.03478566]),\n",
       " array([ 0.56405556,  0.58082241, -0.76510632, ...,  0.40457121,\n",
       "         0.19365604,  0.03619301]),\n",
       " array([ 0.56216985,  0.58062196, -0.77385342, ...,  0.40859574,\n",
       "         0.20581821,  0.03689832]),\n",
       " array([ 0.56170213,  0.5807656 , -0.78939956, ...,  0.40867001,\n",
       "         0.21490668,  0.02874225]),\n",
       " array([ 0.5610289 ,  0.5807631 , -0.80781859, ...,  0.43741661,\n",
       "         0.2319411 , -0.00453987]),\n",
       " array([ 0.5605489 ,  0.57676452, -0.7860657 , ...,  0.43292785,\n",
       "         0.53770626,  0.00127792]),\n",
       " array([ 0.56533301,  0.57660705, -0.98784989, ...,  0.44536132,\n",
       "         0.71569431, -0.01241074]),\n",
       " array([ 0.56875032,  0.57633686, -1.06809938, ...,  0.44924131,\n",
       "         0.62620306, -0.04719209]),\n",
       " array([ 0.56990755,  0.57623935, -1.17132354, ...,  0.42513913,\n",
       "         0.4424386 , -0.0124804 ]),\n",
       " array([ 0.5690192 ,  0.57546961, -1.14394963, ...,  0.41918758,\n",
       "         0.31357718,  0.00680125]),\n",
       " array([ 0.56874835,  0.57462078, -1.157372  , ...,  0.42032549,\n",
       "         0.33099845,  0.02631897]),\n",
       " array([ 0.5679493 ,  0.57406682, -1.25596893, ...,  0.41815463,\n",
       "         0.35067099,  0.00876351]),\n",
       " array([ 0.55301523,  0.5740723 , -0.86516821, ...,  0.34992096,\n",
       "         0.46717381, -0.06656936]),\n",
       " array([ 0.54527676,  0.57333875, -0.87923181, ...,  0.34286574,\n",
       "         0.59532428, -0.08012766]),\n",
       " array([ 0.53550935,  0.5718537 , -0.87169039, ...,  0.31370637,\n",
       "         0.56704926, -0.07220888]),\n",
       " array([ 0.52916521,  0.57105088, -0.89389288, ...,  0.2972832 ,\n",
       "         0.54965067, -0.05613605]),\n",
       " array([ 0.51120484,  0.57105732, -0.91345656, ...,  0.27915132,\n",
       "         0.5333097 , -0.05248685])]"
      ]
     },
     "execution_count": 88,
     "metadata": {},
     "output_type": "execute_result"
    }
   ],
   "source": [
    "sequence[-30:]"
   ]
  },
  {
   "cell_type": "code",
   "execution_count": 89,
   "metadata": {},
   "outputs": [
    {
     "name": "stdout",
     "output_type": "stream",
     "text": [
      "<class 'mediapipe.python.solution_base.SolutionOutputs'>\n",
      "<class 'mediapipe.python.solution_base.SolutionOutputs'>\n",
      "<class 'mediapipe.python.solution_base.SolutionOutputs'>\n",
      "<class 'mediapipe.python.solution_base.SolutionOutputs'>\n",
      "<class 'mediapipe.python.solution_base.SolutionOutputs'>\n",
      "<class 'mediapipe.python.solution_base.SolutionOutputs'>\n",
      "<class 'mediapipe.python.solution_base.SolutionOutputs'>\n",
      "<class 'mediapipe.python.solution_base.SolutionOutputs'>\n",
      "<class 'mediapipe.python.solution_base.SolutionOutputs'>\n",
      "<class 'mediapipe.python.solution_base.SolutionOutputs'>\n",
      "<class 'mediapipe.python.solution_base.SolutionOutputs'>\n",
      "<class 'mediapipe.python.solution_base.SolutionOutputs'>\n",
      "<class 'mediapipe.python.solution_base.SolutionOutputs'>\n",
      "<class 'mediapipe.python.solution_base.SolutionOutputs'>\n",
      "<class 'mediapipe.python.solution_base.SolutionOutputs'>\n",
      "<class 'mediapipe.python.solution_base.SolutionOutputs'>\n",
      "<class 'mediapipe.python.solution_base.SolutionOutputs'>\n",
      "<class 'mediapipe.python.solution_base.SolutionOutputs'>\n",
      "<class 'mediapipe.python.solution_base.SolutionOutputs'>\n",
      "<class 'mediapipe.python.solution_base.SolutionOutputs'>\n",
      "<class 'mediapipe.python.solution_base.SolutionOutputs'>\n",
      "<class 'mediapipe.python.solution_base.SolutionOutputs'>\n",
      "<class 'mediapipe.python.solution_base.SolutionOutputs'>\n",
      "<class 'mediapipe.python.solution_base.SolutionOutputs'>\n",
      "<class 'mediapipe.python.solution_base.SolutionOutputs'>\n",
      "<class 'mediapipe.python.solution_base.SolutionOutputs'>\n",
      "<class 'mediapipe.python.solution_base.SolutionOutputs'>\n",
      "<class 'mediapipe.python.solution_base.SolutionOutputs'>\n",
      "<class 'mediapipe.python.solution_base.SolutionOutputs'>\n",
      "<class 'mediapipe.python.solution_base.SolutionOutputs'>\n",
      "low\n",
      "<class 'mediapipe.python.solution_base.SolutionOutputs'>\n",
      "low\n",
      "<class 'mediapipe.python.solution_base.SolutionOutputs'>\n",
      "low\n",
      "<class 'mediapipe.python.solution_base.SolutionOutputs'>\n",
      "low\n",
      "<class 'mediapipe.python.solution_base.SolutionOutputs'>\n",
      "low\n",
      "<class 'mediapipe.python.solution_base.SolutionOutputs'>\n",
      "low\n",
      "<class 'mediapipe.python.solution_base.SolutionOutputs'>\n",
      "low\n",
      "<class 'mediapipe.python.solution_base.SolutionOutputs'>\n",
      "low\n",
      "<class 'mediapipe.python.solution_base.SolutionOutputs'>\n",
      "low\n",
      "<class 'mediapipe.python.solution_base.SolutionOutputs'>\n",
      "low\n",
      "<class 'mediapipe.python.solution_base.SolutionOutputs'>\n",
      "low\n",
      "<class 'mediapipe.python.solution_base.SolutionOutputs'>\n",
      "low\n",
      "<class 'mediapipe.python.solution_base.SolutionOutputs'>\n",
      "low\n",
      "<class 'mediapipe.python.solution_base.SolutionOutputs'>\n",
      "low\n",
      "<class 'mediapipe.python.solution_base.SolutionOutputs'>\n",
      "low\n",
      "<class 'mediapipe.python.solution_base.SolutionOutputs'>\n",
      "low\n",
      "<class 'mediapipe.python.solution_base.SolutionOutputs'>\n",
      "low\n",
      "<class 'mediapipe.python.solution_base.SolutionOutputs'>\n",
      "low\n",
      "<class 'mediapipe.python.solution_base.SolutionOutputs'>\n",
      "low\n",
      "<class 'mediapipe.python.solution_base.SolutionOutputs'>\n",
      "low\n",
      "<class 'mediapipe.python.solution_base.SolutionOutputs'>\n",
      "low\n",
      "<class 'mediapipe.python.solution_base.SolutionOutputs'>\n",
      "low\n",
      "<class 'mediapipe.python.solution_base.SolutionOutputs'>\n",
      "low\n",
      "<class 'mediapipe.python.solution_base.SolutionOutputs'>\n",
      "low\n",
      "<class 'mediapipe.python.solution_base.SolutionOutputs'>\n",
      "low\n",
      "<class 'mediapipe.python.solution_base.SolutionOutputs'>\n",
      "low\n",
      "<class 'mediapipe.python.solution_base.SolutionOutputs'>\n",
      "low\n",
      "<class 'mediapipe.python.solution_base.SolutionOutputs'>\n",
      "low\n",
      "<class 'mediapipe.python.solution_base.SolutionOutputs'>\n",
      "low\n",
      "<class 'mediapipe.python.solution_base.SolutionOutputs'>\n",
      "low\n",
      "<class 'mediapipe.python.solution_base.SolutionOutputs'>\n",
      "low\n",
      "<class 'mediapipe.python.solution_base.SolutionOutputs'>\n",
      "low\n",
      "<class 'mediapipe.python.solution_base.SolutionOutputs'>\n",
      "low\n",
      "<class 'mediapipe.python.solution_base.SolutionOutputs'>\n",
      "low\n",
      "<class 'mediapipe.python.solution_base.SolutionOutputs'>\n",
      "low\n",
      "<class 'mediapipe.python.solution_base.SolutionOutputs'>\n",
      "low\n",
      "<class 'mediapipe.python.solution_base.SolutionOutputs'>\n",
      "low\n",
      "<class 'mediapipe.python.solution_base.SolutionOutputs'>\n",
      "low\n",
      "<class 'mediapipe.python.solution_base.SolutionOutputs'>\n",
      "low\n",
      "<class 'mediapipe.python.solution_base.SolutionOutputs'>\n",
      "low\n",
      "<class 'mediapipe.python.solution_base.SolutionOutputs'>\n",
      "low\n",
      "<class 'mediapipe.python.solution_base.SolutionOutputs'>\n",
      "low\n",
      "<class 'mediapipe.python.solution_base.SolutionOutputs'>\n",
      "low\n",
      "<class 'mediapipe.python.solution_base.SolutionOutputs'>\n",
      "low\n",
      "<class 'mediapipe.python.solution_base.SolutionOutputs'>\n",
      "low\n",
      "<class 'mediapipe.python.solution_base.SolutionOutputs'>\n",
      "low\n",
      "<class 'mediapipe.python.solution_base.SolutionOutputs'>\n",
      "low\n",
      "<class 'mediapipe.python.solution_base.SolutionOutputs'>\n",
      "low\n",
      "<class 'mediapipe.python.solution_base.SolutionOutputs'>\n",
      "low\n",
      "<class 'mediapipe.python.solution_base.SolutionOutputs'>\n",
      "low\n",
      "<class 'mediapipe.python.solution_base.SolutionOutputs'>\n",
      "low\n",
      "<class 'mediapipe.python.solution_base.SolutionOutputs'>\n",
      "low\n",
      "<class 'mediapipe.python.solution_base.SolutionOutputs'>\n",
      "low\n",
      "<class 'mediapipe.python.solution_base.SolutionOutputs'>\n",
      "low\n",
      "<class 'mediapipe.python.solution_base.SolutionOutputs'>\n",
      "low\n",
      "<class 'mediapipe.python.solution_base.SolutionOutputs'>\n",
      "low\n",
      "<class 'mediapipe.python.solution_base.SolutionOutputs'>\n",
      "high\n",
      "<class 'mediapipe.python.solution_base.SolutionOutputs'>\n",
      "high\n",
      "<class 'mediapipe.python.solution_base.SolutionOutputs'>\n",
      "high\n",
      "<class 'mediapipe.python.solution_base.SolutionOutputs'>\n",
      "high\n",
      "<class 'mediapipe.python.solution_base.SolutionOutputs'>\n",
      "high\n",
      "<class 'mediapipe.python.solution_base.SolutionOutputs'>\n",
      "high\n",
      "<class 'mediapipe.python.solution_base.SolutionOutputs'>\n",
      "high\n",
      "<class 'mediapipe.python.solution_base.SolutionOutputs'>\n",
      "high\n",
      "<class 'mediapipe.python.solution_base.SolutionOutputs'>\n",
      "high\n",
      "<class 'mediapipe.python.solution_base.SolutionOutputs'>\n",
      "high\n",
      "<class 'mediapipe.python.solution_base.SolutionOutputs'>\n",
      "high\n",
      "<class 'mediapipe.python.solution_base.SolutionOutputs'>\n",
      "high\n",
      "<class 'mediapipe.python.solution_base.SolutionOutputs'>\n",
      "high\n",
      "<class 'mediapipe.python.solution_base.SolutionOutputs'>\n",
      "high\n",
      "<class 'mediapipe.python.solution_base.SolutionOutputs'>\n",
      "high\n",
      "<class 'mediapipe.python.solution_base.SolutionOutputs'>\n",
      "high\n",
      "<class 'mediapipe.python.solution_base.SolutionOutputs'>\n",
      "high\n",
      "<class 'mediapipe.python.solution_base.SolutionOutputs'>\n",
      "high\n",
      "<class 'mediapipe.python.solution_base.SolutionOutputs'>\n",
      "high\n",
      "<class 'mediapipe.python.solution_base.SolutionOutputs'>\n",
      "high\n",
      "<class 'mediapipe.python.solution_base.SolutionOutputs'>\n",
      "high\n",
      "<class 'mediapipe.python.solution_base.SolutionOutputs'>\n",
      "high\n",
      "<class 'mediapipe.python.solution_base.SolutionOutputs'>\n",
      "high\n",
      "<class 'mediapipe.python.solution_base.SolutionOutputs'>\n",
      "low\n",
      "<class 'mediapipe.python.solution_base.SolutionOutputs'>\n",
      "low\n",
      "<class 'mediapipe.python.solution_base.SolutionOutputs'>\n",
      "low\n",
      "<class 'mediapipe.python.solution_base.SolutionOutputs'>\n",
      "low\n",
      "<class 'mediapipe.python.solution_base.SolutionOutputs'>\n",
      "low\n",
      "<class 'mediapipe.python.solution_base.SolutionOutputs'>\n",
      "low\n",
      "<class 'mediapipe.python.solution_base.SolutionOutputs'>\n",
      "low\n",
      "<class 'mediapipe.python.solution_base.SolutionOutputs'>\n",
      "low\n",
      "<class 'mediapipe.python.solution_base.SolutionOutputs'>\n",
      "low\n",
      "<class 'mediapipe.python.solution_base.SolutionOutputs'>\n",
      "low\n",
      "<class 'mediapipe.python.solution_base.SolutionOutputs'>\n",
      "low\n",
      "<class 'mediapipe.python.solution_base.SolutionOutputs'>\n",
      "low\n",
      "<class 'mediapipe.python.solution_base.SolutionOutputs'>\n",
      "low\n",
      "<class 'mediapipe.python.solution_base.SolutionOutputs'>\n",
      "low\n",
      "<class 'mediapipe.python.solution_base.SolutionOutputs'>\n",
      "low\n",
      "<class 'mediapipe.python.solution_base.SolutionOutputs'>\n",
      "low\n",
      "<class 'mediapipe.python.solution_base.SolutionOutputs'>\n",
      "low\n",
      "<class 'mediapipe.python.solution_base.SolutionOutputs'>\n",
      "low\n",
      "<class 'mediapipe.python.solution_base.SolutionOutputs'>\n",
      "low\n",
      "<class 'mediapipe.python.solution_base.SolutionOutputs'>\n",
      "low\n",
      "<class 'mediapipe.python.solution_base.SolutionOutputs'>\n",
      "low\n",
      "<class 'mediapipe.python.solution_base.SolutionOutputs'>\n",
      "low\n",
      "<class 'mediapipe.python.solution_base.SolutionOutputs'>\n",
      "low\n",
      "<class 'mediapipe.python.solution_base.SolutionOutputs'>\n",
      "low\n",
      "<class 'mediapipe.python.solution_base.SolutionOutputs'>\n",
      "low\n",
      "<class 'mediapipe.python.solution_base.SolutionOutputs'>\n",
      "low\n",
      "<class 'mediapipe.python.solution_base.SolutionOutputs'>\n",
      "low\n",
      "<class 'mediapipe.python.solution_base.SolutionOutputs'>\n",
      "low\n"
     ]
    }
   ],
   "source": [
    "# 1. New detection variables\n",
    "sequence = []\n",
    "sentence = []\n",
    "threshold = 0.8\n",
    "\n",
    "cap = cv2.VideoCapture(0)\n",
    "# Set mediapipe model \n",
    "with mp_holistic.Holistic(min_detection_confidence=0.5, min_tracking_confidence=0.5) as holistic:\n",
    "    while cap.isOpened():\n",
    "\n",
    "        # Read feed\n",
    "        ret, frame = cap.read()\n",
    "\n",
    "        # Make detections\n",
    "        image, results = mediapipe_detection(frame, holistic)\n",
    "        print(results)\n",
    "        \n",
    "        # Draw landmarks\n",
    "        draw_styled_landmarks(image, results)\n",
    "        \n",
    "        # 2. Prediction logic\n",
    "        keypoints = extract_keypoints(results)\n",
    "        sequence.insert(0,keypoints)\n",
    "        sequence = sequence[:30]\n",
    "        #sequence.append(keypoints)\n",
    "        #sequence = sequence[-30:]\n",
    "        \n",
    "        if len(sequence) == 30:\n",
    "            res = model.predict(np.expand_dims(sequence, axis=0))[0]\n",
    "            print(actions[np.argmax(res)])\n",
    "            \n",
    "            \n",
    "        #3. Viz logic\n",
    "            if res[np.argmax(res)] > threshold: \n",
    "                if len(sentence) > 0: \n",
    "                    if actions[np.argmax(res)] != sentence[-1]:\n",
    "                        sentence.append(actions[np.argmax(res)])\n",
    "                else:\n",
    "                    sentence.append(actions[np.argmax(res)])\n",
    "\n",
    "            if len(sentence) > 5: \n",
    "                sentence = sentence[-5:]\n",
    "\n",
    "            # Viz probabilities\n",
    "            image = prob_viz(res, actions, image, colors)\n",
    "            \n",
    "        cv2.rectangle(image, (0,0), (640, 40), (245, 117, 16), -1)\n",
    "        cv2.putText(image, ' '.join(sentence), (3,30), \n",
    "                       cv2.FONT_HERSHEY_SIMPLEX, 1, (255, 255, 255), 2, cv2.LINE_AA)\n",
    "        \n",
    "        # Show to screen\n",
    "        cv2.imshow('OpenCV Feed', image)\n",
    "\n",
    "        # Break gracefully\n",
    "        if cv2.waitKey(10) & 0xFF == ord('q'):\n",
    "            break\n",
    "    cap.release()\n",
    "    cv2.destroyAllWindows()"
   ]
  },
  {
   "cell_type": "code",
   "execution_count": 90,
   "metadata": {},
   "outputs": [],
   "source": [
    "cap.release()\n",
    "cv2.destroyAllWindows()"
   ]
  },
  {
   "cell_type": "code",
   "execution_count": 91,
   "metadata": {},
   "outputs": [
    {
     "data": {
      "text/plain": [
       "True"
      ]
     },
     "execution_count": 91,
     "metadata": {},
     "output_type": "execute_result"
    }
   ],
   "source": [
    "res[np.argmax(res)] > threshold"
   ]
  },
  {
   "cell_type": "code",
   "execution_count": 92,
   "metadata": {},
   "outputs": [
    {
     "ename": "NameError",
     "evalue": "name 'num_sequences' is not defined",
     "output_type": "error",
     "traceback": [
      "\u001b[1;31m---------------------------------------------------------------------------\u001b[0m",
      "\u001b[1;31mNameError\u001b[0m                                 Traceback (most recent call last)",
      "Input \u001b[1;32mIn [92]\u001b[0m, in \u001b[0;36m<cell line: 1>\u001b[1;34m()\u001b[0m\n\u001b[1;32m----> 1\u001b[0m (\u001b[43mnum_sequences\u001b[49m,\u001b[38;5;241m30\u001b[39m,\u001b[38;5;241m1662\u001b[39m)\n",
      "\u001b[1;31mNameError\u001b[0m: name 'num_sequences' is not defined"
     ]
    }
   ],
   "source": [
    "(num_sequences,30,1662)"
   ]
  },
  {
   "cell_type": "code",
   "execution_count": null,
   "metadata": {},
   "outputs": [],
   "source": [
    "model.predict(np.expand_dims(X_test[0], axis=0))"
   ]
  },
  {
   "cell_type": "code",
   "execution_count": null,
   "metadata": {},
   "outputs": [],
   "source": []
  },
  {
   "cell_type": "code",
   "execution_count": null,
   "metadata": {},
   "outputs": [],
   "source": []
  }
 ],
 "metadata": {
  "kernelspec": {
   "display_name": "Python 3 (ipykernel)",
   "language": "python",
   "name": "python3"
  },
  "language_info": {
   "codemirror_mode": {
    "name": "ipython",
    "version": 3
   },
   "file_extension": ".py",
   "mimetype": "text/x-python",
   "name": "python",
   "nbconvert_exporter": "python",
   "pygments_lexer": "ipython3",
   "version": "3.10.2"
  }
 },
 "nbformat": 4,
 "nbformat_minor": 2
}
